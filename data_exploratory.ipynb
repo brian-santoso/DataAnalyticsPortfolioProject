{
 "metadata": {
  "language_info": {
   "codemirror_mode": {
    "name": "ipython",
    "version": 3
   },
   "file_extension": ".py",
   "mimetype": "text/x-python",
   "name": "python",
   "nbconvert_exporter": "python",
   "pygments_lexer": "ipython3",
   "version": "3.8.5-final"
  },
  "orig_nbformat": 2,
  "kernelspec": {
   "name": "python3",
   "display_name": "Python 3",
   "language": "python"
  }
 },
 "nbformat": 4,
 "nbformat_minor": 2,
 "cells": [
  {
   "cell_type": "code",
   "execution_count": 1,
   "metadata": {},
   "outputs": [],
   "source": [
    "import pandas as pd\n",
    "from datetime import datetime, timedelta\n",
    "import matplotlib.pyplot as plt\n",
    "# pd.options.display.max_columns\n",
    "pd.set_option(\"display.max_colwidth\",200)\n",
    "pd.set_option(\"display.max_columns\",20)\n",
    "pd.set_option('float_format', '{:.3f}'.format)"
   ]
  },
  {
   "source": [
    "## Read the data in pandas"
   ],
   "cell_type": "markdown",
   "metadata": {}
  },
  {
   "cell_type": "code",
   "execution_count": 2,
   "metadata": {},
   "outputs": [
    {
     "output_type": "stream",
     "name": "stdout",
     "text": [
      "< ---- Basic information ---- >\n",
      "- 9851 base stations. 4171950 entries\n",
      "\n",
      "< ---- Unique users ---- >\n",
      "- 871 unique users\n"
     ]
    }
   ],
   "source": [
    "# Load Usage data\n",
    "with open('App_usage_trace.txt') as f:\n",
    "    lines = f.readlines()#[:100000]\n",
    "    df = []\n",
    "    for line in lines:\n",
    "        data = line.split()\n",
    "        df.append(data)\n",
    "usage = pd.DataFrame(df, columns=['uid','timestamp', 'loc', 'app_id','traffic'])\n",
    "usage['traffic'] = usage['traffic'].astype('float64') / 1e6 # Convert traffic to MB\n",
    "usage['timestamp'] = usage['timestamp'].apply(lambda x: datetime.strptime(x, \"%Y%m%d%H%M%S\")) # Convert to datetime object\n",
    "usage['loc'] = usage['loc'].astype('int64')\n",
    "\n",
    "# Load App2Category data\n",
    "with open('App2Category.txt') as f:\n",
    "    lines = f.readlines()\n",
    "    df = []\n",
    "    for line in lines:\n",
    "        data = line.split()\n",
    "        df.append(data)\n",
    "app2cat = pd.DataFrame(df, columns=['app_id','cat_id'])\n",
    "\n",
    "# Load base station POI data\n",
    "base_poi = pd.read_csv(\"base_poi.txt\", delimiter='\\t')\n",
    "\n",
    "# Load Category dictionary\n",
    "cat = pd.read_csv(\"Categorys.txt\", delimiter='\\t', header = None)\n",
    "cat.columns = ['cat_id','category']\n",
    "cat.set_index('cat_id', inplace=True)\n",
    "\n",
    "\n",
    "print(\"< ---- Basic information ---- >\")\n",
    "print(\"- {} base stations. {} entries\".format(base_poi.shape[0], usage.shape[0]))\n",
    "print()\n",
    "print(\"< ---- Unique users ---- >\")\n",
    "print(\"- {} unique users\".format(len(usage['uid'].unique())))\n",
    "\n"
   ]
  },
  {
   "source": [
    "## App-App insights\n",
    "1. App type distribution\n",
    "2. App to next App\n",
    "    2. Set of 2, 3, App\n",
    "    3. Segregate in different period of the day\n"
   ],
   "cell_type": "markdown",
   "metadata": {}
  },
  {
   "source": [
    "### 1. App Switching behavior"
   ],
   "cell_type": "markdown",
   "metadata": {}
  },
  {
   "cell_type": "code",
   "execution_count": 14,
   "metadata": {},
   "outputs": [],
   "source": [
    "# If the next entry is a different app\n",
    "# Store the combination\n",
    "def app_set(df):\n",
    "    app_set = []\n",
    "    record = {}\n",
    "    \n",
    "    # Iterate through the dataset\n",
    "    for i in range(df.shape[0]):\n",
    "        \n",
    "        # Get the first app\n",
    "        first = df['app_id'].iloc[i]\n",
    "        # Get the next app used except last row\n",
    "        try:\n",
    "            second = df['app_id'].iloc[i+1]\n",
    "        except:\n",
    "            print(\"reach last entry\")\n",
    "            pass\n",
    "        \n",
    "        # print(second)\n",
    "        if first != second:\n",
    "                    \n",
    "            # Ensure the user open the app within certain time\n",
    "            first_time = df['timestamp'].iloc[i]\n",
    "            try: second_time = df['timestamp'].iloc[i+1]\n",
    "            except: pass\n",
    "            time_diff = second_time - first_time\n",
    "            \n",
    "            if time_diff < timedelta(minutes=3):\n",
    "                if (first, second) not in app_set:\n",
    "                    app_set.append((first, second))\n",
    "                    record[(first, second)] = 0\n",
    "                else:\n",
    "                    record[(first, second)] +=1\n",
    "\n",
    "    # Sort the record\n",
    "    record = {k: v for k,v in sorted(record.items(), key=lambda item: item[1], reverse=True)}\n",
    "    app_set = set(app_set)\n",
    "    return app_set, record"
   ]
  },
  {
   "cell_type": "code",
   "execution_count": 3,
   "metadata": {
    "tags": []
   },
   "outputs": [],
   "source": [
    "# # Get a list of unique users\n",
    "# unique_users = usage['uid'].unique()\n",
    "\n",
    "# # Create the dictionary to record the appset and set appearance\n",
    "# app_app_per_user = {}\n",
    "# app_app_per_user['uid'] = []\n",
    "# app_app_per_user['app_set'] = []\n",
    "# app_app_per_user['combo_record'] = []\n",
    "\n",
    "# for i in unique_users:\n",
    "#     # Filter a dataset for that unique user\n",
    "#     user_usage = usage[usage['uid'] == i]\n",
    "#     appset, record = app_set(user_usage)\n",
    "#     app_app_per_user['uid'].append(i)\n",
    "#     app_app_per_user['app_set'].append(appset)\n",
    "#     app_app_per_user['combo_record'].append(record)\n",
    "\n",
    "# # Create df for easier operation\n",
    "# user_app_app = pd.DataFrame(app_app_per_user)\n",
    "# user_app_app.set_index('uid', inplace=True)\n",
    "\n",
    "# def assign(x, n):\n",
    "#     try: return list(x)[n]\n",
    "#     except: return None\n",
    "\n",
    "# # # Create the top 3 combo of each user\n",
    "# for i in ['1','2','3']:\n",
    "#     try:\n",
    "#         user_app_app[i] = user_app_app['combo_record'].apply(lambda x: assign(x, int(i)-1))\n",
    "#     except:\n",
    "#         print(i, \"Some users do not have top 3\")"
   ]
  },
  {
   "source": [
    "## The most popular app switch (App \"Type - App \"Type)\n",
    "Based on the number of times a user swtiches app"
   ],
   "cell_type": "markdown",
   "metadata": {}
  },
  {
   "cell_type": "code",
   "execution_count": 119,
   "metadata": {},
   "outputs": [
    {
     "output_type": "stream",
     "name": "stdout",
     "text": [
      "App 1                                                             | App 2                                                             | User out of 46\n--------------------------------------------------------------------------------------------------------------------------------------------\n488  'News'                                                       | 220  'News'                                                       | 13\n--------------------------------------------------------------------------------------------------------------------------------------------\n220  'News'                                                       | 488  'News'                                                       | 13\n--------------------------------------------------------------------------------------------------------------------------------------------\n18   'Social\\_Networking'                                         | 55   'Social\\_Networking'                                         | 9\n--------------------------------------------------------------------------------------------------------------------------------------------\n640  'News'                                                       | 316  'News'                                                       | 7\n--------------------------------------------------------------------------------------------------------------------------------------------\n55   'Social\\_Networking'                                         | 18   'Social\\_Networking'                                         | 7\n--------------------------------------------------------------------------------------------------------------------------------------------\n220  'News'                                                       | 967  'News'                                                       | 5\n--------------------------------------------------------------------------------------------------------------------------------------------\n2    'Social\\_Networking'                                         | 77   'Social\\_Networking'                                         | 5\n--------------------------------------------------------------------------------------------------------------------------------------------\n77   'Social\\_Networking'                                         | 2    'Social\\_Networking'                                         | 4\n--------------------------------------------------------------------------------------------------------------------------------------------\n31   'Travel'                                                     | 37   'Travel'                                                     | 3\n--------------------------------------------------------------------------------------------------------------------------------------------\n316  'News'                                                       | 640  'News'                                                       | 3\n--------------------------------------------------------------------------------------------------------------------------------------------\n"
     ]
    }
   ],
   "source": [
    "def find_cat(i):\n",
    "    x = app2cat[app2cat['app_id'] == i].iloc[0]['cat_id']\n",
    "    return cat.iloc[int(x)-1]['category']\n",
    "\n",
    "top_n_combo = 10\n",
    "\n",
    "print('{:<65} | {:65} | {:5}'.format(\"App 1\",\"App 2\", \"User out of {}\".format(len(unique_users))))\n",
    "print('-'*140)\n",
    "top_3 = pd.concat([user_app_app['1'],user_app_app['2'], user_app_app['3']], axis=0, ignore_index=True)\n",
    "top_3 = top_3.value_counts()\n",
    "for i in range(top_n_combo):\n",
    "    x = top_3.index[i]\n",
    "    a = find_cat(x[0])\n",
    "    b = find_cat(x[1])\n",
    "    print('{:5}{:60} | {:5}{:60} |'.format(x[0], a, x[1], b, \"i\"), top_3.iloc[i])\n",
    "    print('-'*140)\n"
   ]
  },
  {
   "source": [
    "### Top 10 app category switch out of 871 users's top 3 app switching behavior"
   ],
   "cell_type": "markdown",
   "metadata": {}
  },
  {
   "cell_type": "code",
   "execution_count": 65,
   "metadata": {},
   "outputs": [],
   "source": [
    "top_3 = top_3.reset_index()\n",
    "top_3.columns = ['app_set', 'count']\n",
    "top_3['cat_set'] = top_3['app_set'].apply(lambda x: (find_cat(str(x[0])), find_cat(str(x[1]))))"
   ]
  },
  {
   "cell_type": "code",
   "execution_count": 66,
   "metadata": {},
   "outputs": [
    {
     "output_type": "execute_result",
     "data": {
      "text/plain": [
       "                                              count\n",
       "cat_set                                            \n",
       "('News', 'News')                                 51\n",
       "('Social\\_Networking', 'Social\\_Networking')     34\n",
       "('sports', 'sports')                             11\n",
       "('sports', 'Social\\_Networking')                  8\n",
       "('Social\\_Networking', 'sports')                  6\n",
       "('Lifestyle ', 'sports')                          4\n",
       "('sports', 'Navigation')                          3\n",
       "('Travel', 'Travel')                              3\n",
       "('Navigation', 'Social\\_Networking')              2\n",
       "('Navigation', 'sports')                          2"
      ],
      "text/html": "<div>\n<style scoped>\n    .dataframe tbody tr th:only-of-type {\n        vertical-align: middle;\n    }\n\n    .dataframe tbody tr th {\n        vertical-align: top;\n    }\n\n    .dataframe thead th {\n        text-align: right;\n    }\n</style>\n<table border=\"1\" class=\"dataframe\">\n  <thead>\n    <tr style=\"text-align: right;\">\n      <th></th>\n      <th>count</th>\n    </tr>\n    <tr>\n      <th>cat_set</th>\n      <th></th>\n    </tr>\n  </thead>\n  <tbody>\n    <tr>\n      <th>('News', 'News')</th>\n      <td>51</td>\n    </tr>\n    <tr>\n      <th>('Social\\_Networking', 'Social\\_Networking')</th>\n      <td>34</td>\n    </tr>\n    <tr>\n      <th>('sports', 'sports')</th>\n      <td>11</td>\n    </tr>\n    <tr>\n      <th>('sports', 'Social\\_Networking')</th>\n      <td>8</td>\n    </tr>\n    <tr>\n      <th>('Social\\_Networking', 'sports')</th>\n      <td>6</td>\n    </tr>\n    <tr>\n      <th>('Lifestyle ', 'sports')</th>\n      <td>4</td>\n    </tr>\n    <tr>\n      <th>('sports', 'Navigation')</th>\n      <td>3</td>\n    </tr>\n    <tr>\n      <th>('Travel', 'Travel')</th>\n      <td>3</td>\n    </tr>\n    <tr>\n      <th>('Navigation', 'Social\\_Networking')</th>\n      <td>2</td>\n    </tr>\n    <tr>\n      <th>('Navigation', 'sports')</th>\n      <td>2</td>\n    </tr>\n  </tbody>\n</table>\n</div>"
     },
     "metadata": {},
     "execution_count": 66
    }
   ],
   "source": [
    "pd.pivot_table(top_3, index='cat_set', values='count', aggfunc='sum').sort_values('count', ascending=False).head(10)"
   ]
  },
  {
   "source": [
    "## Save the user with app set to csv"
   ],
   "cell_type": "markdown",
   "metadata": {}
  },
  {
   "cell_type": "code",
   "execution_count": 67,
   "metadata": {},
   "outputs": [],
   "source": [
    "user_app_app.to_csv(\"user_app_app.csv\")"
   ]
  },
  {
   "source": [
    "## Traffic in 15-minute interval"
   ],
   "cell_type": "markdown",
   "metadata": {}
  },
  {
   "cell_type": "code",
   "execution_count": 4,
   "metadata": {},
   "outputs": [],
   "source": [
    "try:\n",
    "    usage.set_index('timestamp', inplace=True)\n",
    "except:\n",
    "    print(\"Index has been set to timestamp\")\n",
    "    print(usage.head(3))\n",
    "\n",
    "# To aggregate the time starting from 0800 to 15-min interval\n",
    "traffic = usage.resample(\"30T\").sum()\n"
   ]
  },
  {
   "cell_type": "code",
   "execution_count": 5,
   "metadata": {},
   "outputs": [
    {
     "output_type": "stream",
     "name": "stdout",
     "text": [
      "Taffic in 30-min interval\nMin: 0.32 MB\nMax: 590.97 MB\nAvg: 201.60 MB\n"
     ]
    },
    {
     "output_type": "display_data",
     "data": {
      "text/plain": "<Figure size 1080x288 with 1 Axes>",
      "image/svg+xml": "<?xml version=\"1.0\" encoding=\"utf-8\" standalone=\"no\"?>\n<!DOCTYPE svg PUBLIC \"-//W3C//DTD SVG 1.1//EN\"\n  \"http://www.w3.org/Graphics/SVG/1.1/DTD/svg11.dtd\">\n<!-- Created with matplotlib (https://matplotlib.org/) -->\n<svg height=\"263.63625pt\" version=\"1.1\" viewBox=\"0 0 874.303125 263.63625\" width=\"874.303125pt\" xmlns=\"http://www.w3.org/2000/svg\" xmlns:xlink=\"http://www.w3.org/1999/xlink\">\n <metadata>\n  <rdf:RDF xmlns:cc=\"http://creativecommons.org/ns#\" xmlns:dc=\"http://purl.org/dc/elements/1.1/\" xmlns:rdf=\"http://www.w3.org/1999/02/22-rdf-syntax-ns#\">\n   <cc:Work>\n    <dc:type rdf:resource=\"http://purl.org/dc/dcmitype/StillImage\"/>\n    <dc:date>2021-03-24T11:15:33.638699</dc:date>\n    <dc:format>image/svg+xml</dc:format>\n    <dc:creator>\n     <cc:Agent>\n      <dc:title>Matplotlib v3.3.2, https://matplotlib.org/</dc:title>\n     </cc:Agent>\n    </dc:creator>\n   </cc:Work>\n  </rdf:RDF>\n </metadata>\n <defs>\n  <style type=\"text/css\">*{stroke-linecap:butt;stroke-linejoin:round;}</style>\n </defs>\n <g id=\"figure_1\">\n  <g id=\"patch_1\">\n   <path d=\"M 0 263.63625 \nL 874.303125 263.63625 \nL 874.303125 0 \nL 0 0 \nz\n\" style=\"fill:none;\"/>\n  </g>\n  <g id=\"axes_1\">\n   <g id=\"patch_2\">\n    <path d=\"M 30.103125 239.758125 \nL 867.103125 239.758125 \nL 867.103125 22.318125 \nL 30.103125 22.318125 \nz\n\" style=\"fill:#ffffff;\"/>\n   </g>\n   <g id=\"matplotlib.axis_1\">\n    <g id=\"xtick_1\">\n     <g id=\"line2d_1\">\n      <defs>\n       <path d=\"M 0 0 \nL 0 3.5 \n\" id=\"m0f9e2f17db\" style=\"stroke:#000000;stroke-width:0.8;\"/>\n      </defs>\n      <g>\n       <use style=\"stroke:#000000;stroke-width:0.8;\" x=\"68.14858\" xlink:href=\"#m0f9e2f17db\" y=\"239.758125\"/>\n      </g>\n     </g>\n     <g id=\"text_1\">\n      <!-- 2016-04-20 -->\n      <g transform=\"translate(39.090767 254.356563)scale(0.1 -0.1)\">\n       <defs>\n        <path d=\"M 19.1875 8.296875 \nL 53.609375 8.296875 \nL 53.609375 0 \nL 7.328125 0 \nL 7.328125 8.296875 \nQ 12.9375 14.109375 22.625 23.890625 \nQ 32.328125 33.6875 34.8125 36.53125 \nQ 39.546875 41.84375 41.421875 45.53125 \nQ 43.3125 49.21875 43.3125 52.78125 \nQ 43.3125 58.59375 39.234375 62.25 \nQ 35.15625 65.921875 28.609375 65.921875 \nQ 23.96875 65.921875 18.8125 64.3125 \nQ 13.671875 62.703125 7.8125 59.421875 \nL 7.8125 69.390625 \nQ 13.765625 71.78125 18.9375 73 \nQ 24.125 74.21875 28.421875 74.21875 \nQ 39.75 74.21875 46.484375 68.546875 \nQ 53.21875 62.890625 53.21875 53.421875 \nQ 53.21875 48.921875 51.53125 44.890625 \nQ 49.859375 40.875 45.40625 35.40625 \nQ 44.1875 33.984375 37.640625 27.21875 \nQ 31.109375 20.453125 19.1875 8.296875 \nz\n\" id=\"DejaVuSans-50\"/>\n        <path d=\"M 31.78125 66.40625 \nQ 24.171875 66.40625 20.328125 58.90625 \nQ 16.5 51.421875 16.5 36.375 \nQ 16.5 21.390625 20.328125 13.890625 \nQ 24.171875 6.390625 31.78125 6.390625 \nQ 39.453125 6.390625 43.28125 13.890625 \nQ 47.125 21.390625 47.125 36.375 \nQ 47.125 51.421875 43.28125 58.90625 \nQ 39.453125 66.40625 31.78125 66.40625 \nz\nM 31.78125 74.21875 \nQ 44.046875 74.21875 50.515625 64.515625 \nQ 56.984375 54.828125 56.984375 36.375 \nQ 56.984375 17.96875 50.515625 8.265625 \nQ 44.046875 -1.421875 31.78125 -1.421875 \nQ 19.53125 -1.421875 13.0625 8.265625 \nQ 6.59375 17.96875 6.59375 36.375 \nQ 6.59375 54.828125 13.0625 64.515625 \nQ 19.53125 74.21875 31.78125 74.21875 \nz\n\" id=\"DejaVuSans-48\"/>\n        <path d=\"M 12.40625 8.296875 \nL 28.515625 8.296875 \nL 28.515625 63.921875 \nL 10.984375 60.40625 \nL 10.984375 69.390625 \nL 28.421875 72.90625 \nL 38.28125 72.90625 \nL 38.28125 8.296875 \nL 54.390625 8.296875 \nL 54.390625 0 \nL 12.40625 0 \nz\n\" id=\"DejaVuSans-49\"/>\n        <path d=\"M 33.015625 40.375 \nQ 26.375 40.375 22.484375 35.828125 \nQ 18.609375 31.296875 18.609375 23.390625 \nQ 18.609375 15.53125 22.484375 10.953125 \nQ 26.375 6.390625 33.015625 6.390625 \nQ 39.65625 6.390625 43.53125 10.953125 \nQ 47.40625 15.53125 47.40625 23.390625 \nQ 47.40625 31.296875 43.53125 35.828125 \nQ 39.65625 40.375 33.015625 40.375 \nz\nM 52.59375 71.296875 \nL 52.59375 62.3125 \nQ 48.875 64.0625 45.09375 64.984375 \nQ 41.3125 65.921875 37.59375 65.921875 \nQ 27.828125 65.921875 22.671875 59.328125 \nQ 17.53125 52.734375 16.796875 39.40625 \nQ 19.671875 43.65625 24.015625 45.921875 \nQ 28.375 48.1875 33.59375 48.1875 \nQ 44.578125 48.1875 50.953125 41.515625 \nQ 57.328125 34.859375 57.328125 23.390625 \nQ 57.328125 12.15625 50.6875 5.359375 \nQ 44.046875 -1.421875 33.015625 -1.421875 \nQ 20.359375 -1.421875 13.671875 8.265625 \nQ 6.984375 17.96875 6.984375 36.375 \nQ 6.984375 53.65625 15.1875 63.9375 \nQ 23.390625 74.21875 37.203125 74.21875 \nQ 40.921875 74.21875 44.703125 73.484375 \nQ 48.484375 72.75 52.59375 71.296875 \nz\n\" id=\"DejaVuSans-54\"/>\n        <path d=\"M 4.890625 31.390625 \nL 31.203125 31.390625 \nL 31.203125 23.390625 \nL 4.890625 23.390625 \nz\n\" id=\"DejaVuSans-45\"/>\n        <path d=\"M 37.796875 64.3125 \nL 12.890625 25.390625 \nL 37.796875 25.390625 \nz\nM 35.203125 72.90625 \nL 47.609375 72.90625 \nL 47.609375 25.390625 \nL 58.015625 25.390625 \nL 58.015625 17.1875 \nL 47.609375 17.1875 \nL 47.609375 0 \nL 37.796875 0 \nL 37.796875 17.1875 \nL 4.890625 17.1875 \nL 4.890625 26.703125 \nz\n\" id=\"DejaVuSans-52\"/>\n       </defs>\n       <use xlink:href=\"#DejaVuSans-50\"/>\n       <use x=\"63.623047\" xlink:href=\"#DejaVuSans-48\"/>\n       <use x=\"127.246094\" xlink:href=\"#DejaVuSans-49\"/>\n       <use x=\"190.869141\" xlink:href=\"#DejaVuSans-54\"/>\n       <use x=\"254.492188\" xlink:href=\"#DejaVuSans-45\"/>\n       <use x=\"290.576172\" xlink:href=\"#DejaVuSans-48\"/>\n       <use x=\"354.199219\" xlink:href=\"#DejaVuSans-52\"/>\n       <use x=\"417.822266\" xlink:href=\"#DejaVuSans-45\"/>\n       <use x=\"453.90625\" xlink:href=\"#DejaVuSans-50\"/>\n       <use x=\"517.529297\" xlink:href=\"#DejaVuSans-48\"/>\n      </g>\n     </g>\n    </g>\n    <g id=\"xtick_2\">\n     <g id=\"line2d_2\">\n      <g>\n       <use style=\"stroke:#000000;stroke-width:0.8;\" x=\"177.17436\" xlink:href=\"#m0f9e2f17db\" y=\"239.758125\"/>\n      </g>\n     </g>\n     <g id=\"text_2\">\n      <!-- 2016-04-21 -->\n      <g transform=\"translate(148.116547 254.356563)scale(0.1 -0.1)\">\n       <use xlink:href=\"#DejaVuSans-50\"/>\n       <use x=\"63.623047\" xlink:href=\"#DejaVuSans-48\"/>\n       <use x=\"127.246094\" xlink:href=\"#DejaVuSans-49\"/>\n       <use x=\"190.869141\" xlink:href=\"#DejaVuSans-54\"/>\n       <use x=\"254.492188\" xlink:href=\"#DejaVuSans-45\"/>\n       <use x=\"290.576172\" xlink:href=\"#DejaVuSans-48\"/>\n       <use x=\"354.199219\" xlink:href=\"#DejaVuSans-52\"/>\n       <use x=\"417.822266\" xlink:href=\"#DejaVuSans-45\"/>\n       <use x=\"453.90625\" xlink:href=\"#DejaVuSans-50\"/>\n       <use x=\"517.529297\" xlink:href=\"#DejaVuSans-49\"/>\n      </g>\n     </g>\n    </g>\n    <g id=\"xtick_3\">\n     <g id=\"line2d_3\">\n      <g>\n       <use style=\"stroke:#000000;stroke-width:0.8;\" x=\"286.20014\" xlink:href=\"#m0f9e2f17db\" y=\"239.758125\"/>\n      </g>\n     </g>\n     <g id=\"text_3\">\n      <!-- 2016-04-22 -->\n      <g transform=\"translate(257.142327 254.356563)scale(0.1 -0.1)\">\n       <use xlink:href=\"#DejaVuSans-50\"/>\n       <use x=\"63.623047\" xlink:href=\"#DejaVuSans-48\"/>\n       <use x=\"127.246094\" xlink:href=\"#DejaVuSans-49\"/>\n       <use x=\"190.869141\" xlink:href=\"#DejaVuSans-54\"/>\n       <use x=\"254.492188\" xlink:href=\"#DejaVuSans-45\"/>\n       <use x=\"290.576172\" xlink:href=\"#DejaVuSans-48\"/>\n       <use x=\"354.199219\" xlink:href=\"#DejaVuSans-52\"/>\n       <use x=\"417.822266\" xlink:href=\"#DejaVuSans-45\"/>\n       <use x=\"453.90625\" xlink:href=\"#DejaVuSans-50\"/>\n       <use x=\"517.529297\" xlink:href=\"#DejaVuSans-50\"/>\n      </g>\n     </g>\n    </g>\n    <g id=\"xtick_4\">\n     <g id=\"line2d_4\">\n      <g>\n       <use style=\"stroke:#000000;stroke-width:0.8;\" x=\"395.22592\" xlink:href=\"#m0f9e2f17db\" y=\"239.758125\"/>\n      </g>\n     </g>\n     <g id=\"text_4\">\n      <!-- 2016-04-23 -->\n      <g transform=\"translate(366.168108 254.356563)scale(0.1 -0.1)\">\n       <defs>\n        <path d=\"M 40.578125 39.3125 \nQ 47.65625 37.796875 51.625 33 \nQ 55.609375 28.21875 55.609375 21.1875 \nQ 55.609375 10.40625 48.1875 4.484375 \nQ 40.765625 -1.421875 27.09375 -1.421875 \nQ 22.515625 -1.421875 17.65625 -0.515625 \nQ 12.796875 0.390625 7.625 2.203125 \nL 7.625 11.71875 \nQ 11.71875 9.328125 16.59375 8.109375 \nQ 21.484375 6.890625 26.8125 6.890625 \nQ 36.078125 6.890625 40.9375 10.546875 \nQ 45.796875 14.203125 45.796875 21.1875 \nQ 45.796875 27.640625 41.28125 31.265625 \nQ 36.765625 34.90625 28.71875 34.90625 \nL 20.21875 34.90625 \nL 20.21875 43.015625 \nL 29.109375 43.015625 \nQ 36.375 43.015625 40.234375 45.921875 \nQ 44.09375 48.828125 44.09375 54.296875 \nQ 44.09375 59.90625 40.109375 62.90625 \nQ 36.140625 65.921875 28.71875 65.921875 \nQ 24.65625 65.921875 20.015625 65.03125 \nQ 15.375 64.15625 9.8125 62.3125 \nL 9.8125 71.09375 \nQ 15.4375 72.65625 20.34375 73.4375 \nQ 25.25 74.21875 29.59375 74.21875 \nQ 40.828125 74.21875 47.359375 69.109375 \nQ 53.90625 64.015625 53.90625 55.328125 \nQ 53.90625 49.265625 50.4375 45.09375 \nQ 46.96875 40.921875 40.578125 39.3125 \nz\n\" id=\"DejaVuSans-51\"/>\n       </defs>\n       <use xlink:href=\"#DejaVuSans-50\"/>\n       <use x=\"63.623047\" xlink:href=\"#DejaVuSans-48\"/>\n       <use x=\"127.246094\" xlink:href=\"#DejaVuSans-49\"/>\n       <use x=\"190.869141\" xlink:href=\"#DejaVuSans-54\"/>\n       <use x=\"254.492188\" xlink:href=\"#DejaVuSans-45\"/>\n       <use x=\"290.576172\" xlink:href=\"#DejaVuSans-48\"/>\n       <use x=\"354.199219\" xlink:href=\"#DejaVuSans-52\"/>\n       <use x=\"417.822266\" xlink:href=\"#DejaVuSans-45\"/>\n       <use x=\"453.90625\" xlink:href=\"#DejaVuSans-50\"/>\n       <use x=\"517.529297\" xlink:href=\"#DejaVuSans-51\"/>\n      </g>\n     </g>\n    </g>\n    <g id=\"xtick_5\">\n     <g id=\"line2d_5\">\n      <g>\n       <use style=\"stroke:#000000;stroke-width:0.8;\" x=\"504.2517\" xlink:href=\"#m0f9e2f17db\" y=\"239.758125\"/>\n      </g>\n     </g>\n     <g id=\"text_5\">\n      <!-- 2016-04-24 -->\n      <g transform=\"translate(475.193888 254.356563)scale(0.1 -0.1)\">\n       <use xlink:href=\"#DejaVuSans-50\"/>\n       <use x=\"63.623047\" xlink:href=\"#DejaVuSans-48\"/>\n       <use x=\"127.246094\" xlink:href=\"#DejaVuSans-49\"/>\n       <use x=\"190.869141\" xlink:href=\"#DejaVuSans-54\"/>\n       <use x=\"254.492188\" xlink:href=\"#DejaVuSans-45\"/>\n       <use x=\"290.576172\" xlink:href=\"#DejaVuSans-48\"/>\n       <use x=\"354.199219\" xlink:href=\"#DejaVuSans-52\"/>\n       <use x=\"417.822266\" xlink:href=\"#DejaVuSans-45\"/>\n       <use x=\"453.90625\" xlink:href=\"#DejaVuSans-50\"/>\n       <use x=\"517.529297\" xlink:href=\"#DejaVuSans-52\"/>\n      </g>\n     </g>\n    </g>\n    <g id=\"xtick_6\">\n     <g id=\"line2d_6\">\n      <g>\n       <use style=\"stroke:#000000;stroke-width:0.8;\" x=\"613.27748\" xlink:href=\"#m0f9e2f17db\" y=\"239.758125\"/>\n      </g>\n     </g>\n     <g id=\"text_6\">\n      <!-- 2016-04-25 -->\n      <g transform=\"translate(584.219668 254.356563)scale(0.1 -0.1)\">\n       <defs>\n        <path d=\"M 10.796875 72.90625 \nL 49.515625 72.90625 \nL 49.515625 64.59375 \nL 19.828125 64.59375 \nL 19.828125 46.734375 \nQ 21.96875 47.46875 24.109375 47.828125 \nQ 26.265625 48.1875 28.421875 48.1875 \nQ 40.625 48.1875 47.75 41.5 \nQ 54.890625 34.8125 54.890625 23.390625 \nQ 54.890625 11.625 47.5625 5.09375 \nQ 40.234375 -1.421875 26.90625 -1.421875 \nQ 22.3125 -1.421875 17.546875 -0.640625 \nQ 12.796875 0.140625 7.71875 1.703125 \nL 7.71875 11.625 \nQ 12.109375 9.234375 16.796875 8.0625 \nQ 21.484375 6.890625 26.703125 6.890625 \nQ 35.15625 6.890625 40.078125 11.328125 \nQ 45.015625 15.765625 45.015625 23.390625 \nQ 45.015625 31 40.078125 35.4375 \nQ 35.15625 39.890625 26.703125 39.890625 \nQ 22.75 39.890625 18.8125 39.015625 \nQ 14.890625 38.140625 10.796875 36.28125 \nz\n\" id=\"DejaVuSans-53\"/>\n       </defs>\n       <use xlink:href=\"#DejaVuSans-50\"/>\n       <use x=\"63.623047\" xlink:href=\"#DejaVuSans-48\"/>\n       <use x=\"127.246094\" xlink:href=\"#DejaVuSans-49\"/>\n       <use x=\"190.869141\" xlink:href=\"#DejaVuSans-54\"/>\n       <use x=\"254.492188\" xlink:href=\"#DejaVuSans-45\"/>\n       <use x=\"290.576172\" xlink:href=\"#DejaVuSans-48\"/>\n       <use x=\"354.199219\" xlink:href=\"#DejaVuSans-52\"/>\n       <use x=\"417.822266\" xlink:href=\"#DejaVuSans-45\"/>\n       <use x=\"453.90625\" xlink:href=\"#DejaVuSans-50\"/>\n       <use x=\"517.529297\" xlink:href=\"#DejaVuSans-53\"/>\n      </g>\n     </g>\n    </g>\n    <g id=\"xtick_7\">\n     <g id=\"line2d_7\">\n      <g>\n       <use style=\"stroke:#000000;stroke-width:0.8;\" x=\"722.303261\" xlink:href=\"#m0f9e2f17db\" y=\"239.758125\"/>\n      </g>\n     </g>\n     <g id=\"text_7\">\n      <!-- 2016-04-26 -->\n      <g transform=\"translate(693.245448 254.356563)scale(0.1 -0.1)\">\n       <use xlink:href=\"#DejaVuSans-50\"/>\n       <use x=\"63.623047\" xlink:href=\"#DejaVuSans-48\"/>\n       <use x=\"127.246094\" xlink:href=\"#DejaVuSans-49\"/>\n       <use x=\"190.869141\" xlink:href=\"#DejaVuSans-54\"/>\n       <use x=\"254.492188\" xlink:href=\"#DejaVuSans-45\"/>\n       <use x=\"290.576172\" xlink:href=\"#DejaVuSans-48\"/>\n       <use x=\"354.199219\" xlink:href=\"#DejaVuSans-52\"/>\n       <use x=\"417.822266\" xlink:href=\"#DejaVuSans-45\"/>\n       <use x=\"453.90625\" xlink:href=\"#DejaVuSans-50\"/>\n       <use x=\"517.529297\" xlink:href=\"#DejaVuSans-54\"/>\n      </g>\n     </g>\n    </g>\n    <g id=\"xtick_8\">\n     <g id=\"line2d_8\">\n      <g>\n       <use style=\"stroke:#000000;stroke-width:0.8;\" x=\"831.329041\" xlink:href=\"#m0f9e2f17db\" y=\"239.758125\"/>\n      </g>\n     </g>\n     <g id=\"text_8\">\n      <!-- 2016-04-27 -->\n      <g transform=\"translate(802.271228 254.356563)scale(0.1 -0.1)\">\n       <defs>\n        <path d=\"M 8.203125 72.90625 \nL 55.078125 72.90625 \nL 55.078125 68.703125 \nL 28.609375 0 \nL 18.3125 0 \nL 43.21875 64.59375 \nL 8.203125 64.59375 \nz\n\" id=\"DejaVuSans-55\"/>\n       </defs>\n       <use xlink:href=\"#DejaVuSans-50\"/>\n       <use x=\"63.623047\" xlink:href=\"#DejaVuSans-48\"/>\n       <use x=\"127.246094\" xlink:href=\"#DejaVuSans-49\"/>\n       <use x=\"190.869141\" xlink:href=\"#DejaVuSans-54\"/>\n       <use x=\"254.492188\" xlink:href=\"#DejaVuSans-45\"/>\n       <use x=\"290.576172\" xlink:href=\"#DejaVuSans-48\"/>\n       <use x=\"354.199219\" xlink:href=\"#DejaVuSans-52\"/>\n       <use x=\"417.822266\" xlink:href=\"#DejaVuSans-45\"/>\n       <use x=\"453.90625\" xlink:href=\"#DejaVuSans-50\"/>\n       <use x=\"517.529297\" xlink:href=\"#DejaVuSans-55\"/>\n      </g>\n     </g>\n    </g>\n   </g>\n   <g id=\"matplotlib.axis_2\">\n    <g id=\"ytick_1\">\n     <g id=\"line2d_9\">\n      <defs>\n       <path d=\"M 0 0 \nL -3.5 0 \n\" id=\"m1b4f29ccf2\" style=\"stroke:#000000;stroke-width:0.8;\"/>\n      </defs>\n      <g>\n       <use style=\"stroke:#000000;stroke-width:0.8;\" x=\"30.103125\" xlink:href=\"#m1b4f29ccf2\" y=\"229.874489\"/>\n      </g>\n     </g>\n     <g id=\"text_9\">\n      <!-- 0.0 -->\n      <g transform=\"translate(7.2 233.673708)scale(0.1 -0.1)\">\n       <defs>\n        <path d=\"M 10.6875 12.40625 \nL 21 12.40625 \nL 21 0 \nL 10.6875 0 \nz\n\" id=\"DejaVuSans-46\"/>\n       </defs>\n       <use xlink:href=\"#DejaVuSans-48\"/>\n       <use x=\"63.623047\" xlink:href=\"#DejaVuSans-46\"/>\n       <use x=\"95.410156\" xlink:href=\"#DejaVuSans-48\"/>\n      </g>\n     </g>\n    </g>\n    <g id=\"ytick_2\">\n     <g id=\"line2d_10\">\n      <g>\n       <use style=\"stroke:#000000;stroke-width:0.8;\" x=\"30.103125\" xlink:href=\"#m1b4f29ccf2\" y=\"201.838433\"/>\n      </g>\n     </g>\n     <g id=\"text_10\">\n      <!-- 0.2 -->\n      <g transform=\"translate(7.2 205.637651)scale(0.1 -0.1)\">\n       <use xlink:href=\"#DejaVuSans-48\"/>\n       <use x=\"63.623047\" xlink:href=\"#DejaVuSans-46\"/>\n       <use x=\"95.410156\" xlink:href=\"#DejaVuSans-50\"/>\n      </g>\n     </g>\n    </g>\n    <g id=\"ytick_3\">\n     <g id=\"line2d_11\">\n      <g>\n       <use style=\"stroke:#000000;stroke-width:0.8;\" x=\"30.103125\" xlink:href=\"#m1b4f29ccf2\" y=\"173.802376\"/>\n      </g>\n     </g>\n     <g id=\"text_11\">\n      <!-- 0.4 -->\n      <g transform=\"translate(7.2 177.601595)scale(0.1 -0.1)\">\n       <use xlink:href=\"#DejaVuSans-48\"/>\n       <use x=\"63.623047\" xlink:href=\"#DejaVuSans-46\"/>\n       <use x=\"95.410156\" xlink:href=\"#DejaVuSans-52\"/>\n      </g>\n     </g>\n    </g>\n    <g id=\"ytick_4\">\n     <g id=\"line2d_12\">\n      <g>\n       <use style=\"stroke:#000000;stroke-width:0.8;\" x=\"30.103125\" xlink:href=\"#m1b4f29ccf2\" y=\"145.766319\"/>\n      </g>\n     </g>\n     <g id=\"text_12\">\n      <!-- 0.6 -->\n      <g transform=\"translate(7.2 149.565538)scale(0.1 -0.1)\">\n       <use xlink:href=\"#DejaVuSans-48\"/>\n       <use x=\"63.623047\" xlink:href=\"#DejaVuSans-46\"/>\n       <use x=\"95.410156\" xlink:href=\"#DejaVuSans-54\"/>\n      </g>\n     </g>\n    </g>\n    <g id=\"ytick_5\">\n     <g id=\"line2d_13\">\n      <g>\n       <use style=\"stroke:#000000;stroke-width:0.8;\" x=\"30.103125\" xlink:href=\"#m1b4f29ccf2\" y=\"117.730263\"/>\n      </g>\n     </g>\n     <g id=\"text_13\">\n      <!-- 0.8 -->\n      <g transform=\"translate(7.2 121.529482)scale(0.1 -0.1)\">\n       <defs>\n        <path d=\"M 31.78125 34.625 \nQ 24.75 34.625 20.71875 30.859375 \nQ 16.703125 27.09375 16.703125 20.515625 \nQ 16.703125 13.921875 20.71875 10.15625 \nQ 24.75 6.390625 31.78125 6.390625 \nQ 38.8125 6.390625 42.859375 10.171875 \nQ 46.921875 13.96875 46.921875 20.515625 \nQ 46.921875 27.09375 42.890625 30.859375 \nQ 38.875 34.625 31.78125 34.625 \nz\nM 21.921875 38.8125 \nQ 15.578125 40.375 12.03125 44.71875 \nQ 8.5 49.078125 8.5 55.328125 \nQ 8.5 64.0625 14.71875 69.140625 \nQ 20.953125 74.21875 31.78125 74.21875 \nQ 42.671875 74.21875 48.875 69.140625 \nQ 55.078125 64.0625 55.078125 55.328125 \nQ 55.078125 49.078125 51.53125 44.71875 \nQ 48 40.375 41.703125 38.8125 \nQ 48.828125 37.15625 52.796875 32.3125 \nQ 56.78125 27.484375 56.78125 20.515625 \nQ 56.78125 9.90625 50.3125 4.234375 \nQ 43.84375 -1.421875 31.78125 -1.421875 \nQ 19.734375 -1.421875 13.25 4.234375 \nQ 6.78125 9.90625 6.78125 20.515625 \nQ 6.78125 27.484375 10.78125 32.3125 \nQ 14.796875 37.15625 21.921875 38.8125 \nz\nM 18.3125 54.390625 \nQ 18.3125 48.734375 21.84375 45.5625 \nQ 25.390625 42.390625 31.78125 42.390625 \nQ 38.140625 42.390625 41.71875 45.5625 \nQ 45.3125 48.734375 45.3125 54.390625 \nQ 45.3125 60.0625 41.71875 63.234375 \nQ 38.140625 66.40625 31.78125 66.40625 \nQ 25.390625 66.40625 21.84375 63.234375 \nQ 18.3125 60.0625 18.3125 54.390625 \nz\n\" id=\"DejaVuSans-56\"/>\n       </defs>\n       <use xlink:href=\"#DejaVuSans-48\"/>\n       <use x=\"63.623047\" xlink:href=\"#DejaVuSans-46\"/>\n       <use x=\"95.410156\" xlink:href=\"#DejaVuSans-56\"/>\n      </g>\n     </g>\n    </g>\n    <g id=\"ytick_6\">\n     <g id=\"line2d_14\">\n      <g>\n       <use style=\"stroke:#000000;stroke-width:0.8;\" x=\"30.103125\" xlink:href=\"#m1b4f29ccf2\" y=\"89.694206\"/>\n      </g>\n     </g>\n     <g id=\"text_14\">\n      <!-- 1.0 -->\n      <g transform=\"translate(7.2 93.493425)scale(0.1 -0.1)\">\n       <use xlink:href=\"#DejaVuSans-49\"/>\n       <use x=\"63.623047\" xlink:href=\"#DejaVuSans-46\"/>\n       <use x=\"95.410156\" xlink:href=\"#DejaVuSans-48\"/>\n      </g>\n     </g>\n    </g>\n    <g id=\"ytick_7\">\n     <g id=\"line2d_15\">\n      <g>\n       <use style=\"stroke:#000000;stroke-width:0.8;\" x=\"30.103125\" xlink:href=\"#m1b4f29ccf2\" y=\"61.65815\"/>\n      </g>\n     </g>\n     <g id=\"text_15\">\n      <!-- 1.2 -->\n      <g transform=\"translate(7.2 65.457369)scale(0.1 -0.1)\">\n       <use xlink:href=\"#DejaVuSans-49\"/>\n       <use x=\"63.623047\" xlink:href=\"#DejaVuSans-46\"/>\n       <use x=\"95.410156\" xlink:href=\"#DejaVuSans-50\"/>\n      </g>\n     </g>\n    </g>\n    <g id=\"ytick_8\">\n     <g id=\"line2d_16\">\n      <g>\n       <use style=\"stroke:#000000;stroke-width:0.8;\" x=\"30.103125\" xlink:href=\"#m1b4f29ccf2\" y=\"33.622093\"/>\n      </g>\n     </g>\n     <g id=\"text_16\">\n      <!-- 1.4 -->\n      <g transform=\"translate(7.2 37.421312)scale(0.1 -0.1)\">\n       <use xlink:href=\"#DejaVuSans-49\"/>\n       <use x=\"63.623047\" xlink:href=\"#DejaVuSans-46\"/>\n       <use x=\"95.410156\" xlink:href=\"#DejaVuSans-52\"/>\n      </g>\n     </g>\n    </g>\n    <g id=\"text_17\">\n     <!-- 1e8 -->\n     <g transform=\"translate(30.103125 19.318125)scale(0.1 -0.1)\">\n      <defs>\n       <path d=\"M 56.203125 29.59375 \nL 56.203125 25.203125 \nL 14.890625 25.203125 \nQ 15.484375 15.921875 20.484375 11.0625 \nQ 25.484375 6.203125 34.421875 6.203125 \nQ 39.59375 6.203125 44.453125 7.46875 \nQ 49.3125 8.734375 54.109375 11.28125 \nL 54.109375 2.78125 \nQ 49.265625 0.734375 44.1875 -0.34375 \nQ 39.109375 -1.421875 33.890625 -1.421875 \nQ 20.796875 -1.421875 13.15625 6.1875 \nQ 5.515625 13.8125 5.515625 26.8125 \nQ 5.515625 40.234375 12.765625 48.109375 \nQ 20.015625 56 32.328125 56 \nQ 43.359375 56 49.78125 48.890625 \nQ 56.203125 41.796875 56.203125 29.59375 \nz\nM 47.21875 32.234375 \nQ 47.125 39.59375 43.09375 43.984375 \nQ 39.0625 48.390625 32.421875 48.390625 \nQ 24.90625 48.390625 20.390625 44.140625 \nQ 15.875 39.890625 15.1875 32.171875 \nz\n\" id=\"DejaVuSans-101\"/>\n      </defs>\n      <use xlink:href=\"#DejaVuSans-49\"/>\n      <use x=\"63.623047\" xlink:href=\"#DejaVuSans-101\"/>\n      <use x=\"125.146484\" xlink:href=\"#DejaVuSans-56\"/>\n     </g>\n    </g>\n   </g>\n   <g id=\"line2d_17\">\n    <path clip-path=\"url(#p5f864fa5eb)\" d=\"M 68.14858 218.616312 \nL 70.41995 222.082805 \nL 72.69132 218.747741 \nL 74.962691 225.650609 \nL 77.234061 223.976991 \nL 79.505432 228.291617 \nL 81.776802 227.401639 \nL 84.048172 229.120752 \nL 86.319543 228.661104 \nL 88.590913 229.162749 \nL 90.862284 228.579773 \nL 93.133654 224.068955 \nL 95.405025 213.308453 \nL 97.676395 208.864704 \nL 99.947765 208.468353 \nL 102.219136 183.364436 \nL 104.490506 178.18624 \nL 106.761877 177.362746 \nL 109.033247 186.390026 \nL 111.304618 182.397187 \nL 113.575988 177.894803 \nL 115.847358 183.477228 \nL 118.118729 180.954689 \nL 120.390099 174.40723 \nL 122.66147 175.756681 \nL 124.93284 162.761412 \nL 127.20421 176.533626 \nL 129.475581 187.479412 \nL 131.746951 180.226743 \nL 134.018322 176.993977 \nL 136.289692 153.191555 \nL 138.561063 147.418403 \nL 140.832433 146.213171 \nL 143.103803 151.322885 \nL 145.375174 138.7409 \nL 147.646544 92.578723 \nL 149.917915 86.004722 \nL 152.189285 88.567164 \nL 154.460656 97.916226 \nL 156.732026 124.597113 \nL 159.003396 119.569053 \nL 161.274767 108.388656 \nL 163.546137 112.209082 \nL 165.817508 118.799325 \nL 168.088878 132.773288 \nL 170.360248 147.67255 \nL 172.631619 133.780441 \nL 174.902989 176.135293 \nL 177.17436 190.229658 \nL 179.44573 205.039978 \nL 183.988471 219.739574 \nL 186.259841 212.533885 \nL 188.531212 212.28435 \nL 190.802582 222.353518 \nL 193.073953 224.503864 \nL 195.345323 221.293493 \nL 197.616694 220.638907 \nL 199.888064 216.833302 \nL 202.159434 214.883842 \nL 204.430805 195.134828 \nL 206.702175 178.419542 \nL 208.973546 143.171144 \nL 211.244916 99.678513 \nL 213.516286 76.872834 \nL 215.787657 47.646071 \nL 218.059027 57.589154 \nL 220.330398 60.740082 \nL 222.601768 49.701046 \nL 224.873139 32.201761 \nL 227.144509 60.255126 \nL 229.415879 79.89929 \nL 231.68725 68.661175 \nL 233.95862 50.032958 \nL 236.229991 60.211886 \nL 238.501361 90.793649 \nL 240.772732 71.330285 \nL 243.044102 55.638615 \nL 245.315472 51.234633 \nL 247.586843 68.143059 \nL 249.858213 73.308533 \nL 252.129584 82.911924 \nL 254.400954 78.529343 \nL 256.672324 73.347436 \nL 258.943695 49.71798 \nL 261.215065 88.853967 \nL 263.486436 73.520257 \nL 265.757806 93.983668 \nL 268.029177 101.341999 \nL 270.300547 130.954872 \nL 272.571917 130.834331 \nL 274.843288 98.53513 \nL 277.114658 116.720593 \nL 279.386029 141.745821 \nL 281.657399 150.469644 \nL 283.92877 161.184972 \nL 286.20014 189.705605 \nL 288.47151 204.116912 \nL 290.742881 204.080713 \nL 293.014251 211.747069 \nL 295.285622 216.081892 \nL 297.556992 222.169069 \nL 299.828362 217.233818 \nL 302.099733 223.643897 \nL 304.371103 224.281031 \nL 306.642474 223.270202 \nL 308.913844 220.182434 \nL 311.185215 213.203951 \nL 313.456585 207.199253 \nL 315.727955 183.053785 \nL 317.999326 153.353356 \nL 320.270696 110.363988 \nL 322.542067 86.482677 \nL 324.813437 94.135646 \nL 327.084807 80.922138 \nL 329.356178 51.551726 \nL 333.898919 67.38228 \nL 336.170289 39.222649 \nL 338.44166 74.721472 \nL 340.71303 62.215992 \nL 342.9844 55.483525 \nL 345.255771 42.205412 \nL 347.527141 68.138386 \nL 349.798512 78.928156 \nL 352.069882 80.914733 \nL 354.341253 67.699571 \nL 356.612623 65.465076 \nL 358.883993 47.783463 \nL 361.155364 64.721406 \nL 363.426734 62.077293 \nL 365.698105 58.271225 \nL 367.969475 82.153755 \nL 370.240845 63.438305 \nL 372.512216 112.087701 \nL 374.783586 119.989954 \nL 377.054957 116.962442 \nL 379.326327 139.249309 \nL 381.597698 106.877533 \nL 383.869068 107.116848 \nL 386.140438 121.754844 \nL 388.411809 148.554581 \nL 392.95455 186.192844 \nL 395.22592 193.724107 \nL 397.497291 193.172351 \nL 399.768661 195.451711 \nL 402.040031 211.049021 \nL 404.311402 216.222833 \nL 406.582772 211.511907 \nL 408.854143 219.875993 \nL 411.125513 218.545029 \nL 413.396883 215.741242 \nL 415.668254 224.832238 \nL 417.939624 219.764463 \nL 420.210995 217.899944 \nL 422.482365 212.402696 \nL 424.753736 203.574341 \nL 427.025106 188.606765 \nL 429.296476 178.486126 \nL 431.567847 163.273037 \nL 433.839217 168.056853 \nL 436.110588 162.303354 \nL 438.381958 147.831872 \nL 440.653329 124.777326 \nL 442.924699 106.624431 \nL 445.196069 121.969438 \nL 447.46744 122.688277 \nL 449.73881 111.50011 \nL 452.010181 109.711404 \nL 454.281551 98.270931 \nL 456.552921 123.083969 \nL 458.824292 123.501353 \nL 461.095662 129.971248 \nL 463.367033 98.268126 \nL 465.638403 116.548451 \nL 467.909774 126.273044 \nL 470.181144 105.29284 \nL 472.452514 109.194552 \nL 474.723885 125.917698 \nL 476.995255 118.596109 \nL 479.266626 119.046725 \nL 481.537996 117.627365 \nL 483.809367 127.282358 \nL 486.080737 123.749062 \nL 488.352107 126.796371 \nL 490.623478 149.954374 \nL 492.894848 152.680396 \nL 495.166219 151.086883 \nL 497.437589 118.560541 \nL 499.708959 146.483262 \nL 501.98033 180.478475 \nL 504.2517 168.42402 \nL 506.523071 194.332981 \nL 508.794441 195.634812 \nL 511.065812 190.814195 \nL 515.608552 209.894715 \nL 517.879923 208.576339 \nL 520.151293 221.057291 \nL 524.694034 222.467335 \nL 526.965405 218.010034 \nL 529.236775 220.391606 \nL 531.508145 208.431115 \nL 533.779516 212.026239 \nL 536.050886 201.130451 \nL 538.322257 176.43744 \nL 540.593627 169.333015 \nL 542.864997 158.756766 \nL 545.136368 153.02533 \nL 547.407738 121.077929 \nL 549.679109 110.683898 \nL 551.950479 110.272522 \nL 554.22185 118.740981 \nL 556.49322 92.801822 \nL 558.76459 101.957845 \nL 561.035961 107.116625 \nL 563.307331 121.049973 \nL 565.578702 133.930445 \nL 567.850072 102.658968 \nL 570.121443 99.317094 \nL 572.392813 125.359338 \nL 574.664183 112.007578 \nL 576.935554 104.192377 \nL 579.206924 117.223892 \nL 581.478295 125.916606 \nL 583.749665 110.645809 \nL 586.021035 105.253035 \nL 588.292406 122.413566 \nL 590.563776 137.688362 \nL 592.835147 137.021709 \nL 595.106517 137.436004 \nL 597.377888 130.774448 \nL 599.649258 150.181188 \nL 601.920628 165.105451 \nL 604.191999 153.688577 \nL 606.463369 173.158936 \nL 608.73474 175.602267 \nL 611.00611 179.869637 \nL 613.27748 180.510593 \nL 615.548851 207.500407 \nL 617.820221 212.411387 \nL 620.091592 221.867338 \nL 622.362962 223.112524 \nL 624.634333 223.367658 \nL 626.905703 223.227991 \nL 629.177073 221.242197 \nL 631.448444 220.735895 \nL 633.719814 224.894761 \nL 635.991185 224.967839 \nL 638.262555 218.63893 \nL 640.533926 195.55731 \nL 642.805296 186.575465 \nL 645.076666 158.047061 \nL 647.348037 121.309485 \nL 649.619407 94.990652 \nL 651.890778 71.349843 \nL 654.162148 85.191331 \nL 656.433518 63.815439 \nL 658.704889 71.966558 \nL 660.976259 73.158131 \nL 663.24763 85.643963 \nL 665.519 89.976629 \nL 667.790371 74.165688 \nL 670.061741 83.731787 \nL 672.333111 91.955139 \nL 674.604482 106.172724 \nL 676.875852 78.106481 \nL 679.147223 81.032412 \nL 681.418593 82.158099 \nL 683.689964 88.063786 \nL 685.961334 79.758779 \nL 688.232704 90.24874 \nL 690.504075 87.137193 \nL 692.775445 81.848038 \nL 695.046816 87.314432 \nL 697.318186 98.377138 \nL 699.589556 77.422831 \nL 701.860927 103.137889 \nL 704.132297 127.104595 \nL 706.403668 119.331113 \nL 708.675038 143.130716 \nL 710.946409 129.485432 \nL 713.217779 138.426464 \nL 715.489149 154.231259 \nL 717.76052 148.583251 \nL 720.03189 177.237045 \nL 722.303261 173.089729 \nL 724.574631 196.194197 \nL 726.846002 207.478683 \nL 729.117372 217.823737 \nL 731.388742 222.006396 \nL 733.660113 216.372152 \nL 735.931483 217.341215 \nL 738.202854 220.528169 \nL 740.474224 226.638485 \nL 742.745594 226.418116 \nL 745.016965 221.211328 \nL 747.288335 212.155903 \nL 749.559706 192.390176 \nL 751.831076 176.325764 \nL 754.102447 153.769623 \nL 756.373817 102.1338 \nL 758.645187 93.417277 \nL 760.916558 90.950918 \nL 763.187928 103.733807 \nL 765.459299 88.675377 \nL 767.730669 54.83428 \nL 770.00204 68.62606 \nL 772.27341 75.244126 \nL 774.54478 116.287654 \nL 776.816151 78.648509 \nL 779.087521 61.15234 \nL 781.358892 64.20546 \nL 783.630262 98.375402 \nL 785.901632 92.20666 \nL 788.173003 89.701656 \nL 790.444373 100.657151 \nL 792.715744 93.731319 \nL 794.987114 92.359099 \nL 797.258485 84.564928 \nL 799.529855 92.642667 \nL 801.801225 93.607302 \nL 804.072596 57.075656 \nL 806.343966 70.035992 \nL 808.615337 99.164092 \nL 810.886707 116.716916 \nL 813.158078 96.826552 \nL 815.429448 145.464998 \nL 817.700818 151.720935 \nL 819.972189 121.730561 \nL 824.51493 149.648817 \nL 826.7863 144.035832 \nL 829.05767 195.114132 \nL 829.05767 195.114132 \n\" style=\"fill:none;stroke:#1f77b4;stroke-linecap:square;stroke-width:1.5;\"/>\n   </g>\n   <g id=\"line2d_18\">\n    <path clip-path=\"url(#p5f864fa5eb)\" d=\"M 68.14858 229.874461 \nL 829.05767 229.874369 \nL 829.05767 229.874369 \n\" style=\"fill:none;stroke:#ff7f0e;stroke-linecap:square;stroke-width:1.5;\"/>\n   </g>\n   <g id=\"patch_3\">\n    <path d=\"M 30.103125 239.758125 \nL 30.103125 22.318125 \n\" style=\"fill:none;stroke:#000000;stroke-linecap:square;stroke-linejoin:miter;stroke-width:0.8;\"/>\n   </g>\n   <g id=\"patch_4\">\n    <path d=\"M 867.103125 239.758125 \nL 867.103125 22.318125 \n\" style=\"fill:none;stroke:#000000;stroke-linecap:square;stroke-linejoin:miter;stroke-width:0.8;\"/>\n   </g>\n   <g id=\"patch_5\">\n    <path d=\"M 30.103125 239.758125 \nL 867.103125 239.758125 \n\" style=\"fill:none;stroke:#000000;stroke-linecap:square;stroke-linejoin:miter;stroke-width:0.8;\"/>\n   </g>\n   <g id=\"patch_6\">\n    <path d=\"M 30.103125 22.318125 \nL 867.103125 22.318125 \n\" style=\"fill:none;stroke:#000000;stroke-linecap:square;stroke-linejoin:miter;stroke-width:0.8;\"/>\n   </g>\n   <g id=\"text_18\">\n    <!-- Network traffic in 30-min interval -->\n    <g transform=\"translate(348.78 16.318125)scale(0.12 -0.12)\">\n     <defs>\n      <path d=\"M 9.8125 72.90625 \nL 23.09375 72.90625 \nL 55.421875 11.921875 \nL 55.421875 72.90625 \nL 64.984375 72.90625 \nL 64.984375 0 \nL 51.703125 0 \nL 19.390625 60.984375 \nL 19.390625 0 \nL 9.8125 0 \nz\n\" id=\"DejaVuSans-78\"/>\n      <path d=\"M 18.3125 70.21875 \nL 18.3125 54.6875 \nL 36.8125 54.6875 \nL 36.8125 47.703125 \nL 18.3125 47.703125 \nL 18.3125 18.015625 \nQ 18.3125 11.328125 20.140625 9.421875 \nQ 21.96875 7.515625 27.59375 7.515625 \nL 36.8125 7.515625 \nL 36.8125 0 \nL 27.59375 0 \nQ 17.1875 0 13.234375 3.875 \nQ 9.28125 7.765625 9.28125 18.015625 \nL 9.28125 47.703125 \nL 2.6875 47.703125 \nL 2.6875 54.6875 \nL 9.28125 54.6875 \nL 9.28125 70.21875 \nz\n\" id=\"DejaVuSans-116\"/>\n      <path d=\"M 4.203125 54.6875 \nL 13.1875 54.6875 \nL 24.421875 12.015625 \nL 35.59375 54.6875 \nL 46.1875 54.6875 \nL 57.421875 12.015625 \nL 68.609375 54.6875 \nL 77.59375 54.6875 \nL 63.28125 0 \nL 52.6875 0 \nL 40.921875 44.828125 \nL 29.109375 0 \nL 18.5 0 \nz\n\" id=\"DejaVuSans-119\"/>\n      <path d=\"M 30.609375 48.390625 \nQ 23.390625 48.390625 19.1875 42.75 \nQ 14.984375 37.109375 14.984375 27.296875 \nQ 14.984375 17.484375 19.15625 11.84375 \nQ 23.34375 6.203125 30.609375 6.203125 \nQ 37.796875 6.203125 41.984375 11.859375 \nQ 46.1875 17.53125 46.1875 27.296875 \nQ 46.1875 37.015625 41.984375 42.703125 \nQ 37.796875 48.390625 30.609375 48.390625 \nz\nM 30.609375 56 \nQ 42.328125 56 49.015625 48.375 \nQ 55.71875 40.765625 55.71875 27.296875 \nQ 55.71875 13.875 49.015625 6.21875 \nQ 42.328125 -1.421875 30.609375 -1.421875 \nQ 18.84375 -1.421875 12.171875 6.21875 \nQ 5.515625 13.875 5.515625 27.296875 \nQ 5.515625 40.765625 12.171875 48.375 \nQ 18.84375 56 30.609375 56 \nz\n\" id=\"DejaVuSans-111\"/>\n      <path d=\"M 41.109375 46.296875 \nQ 39.59375 47.171875 37.8125 47.578125 \nQ 36.03125 48 33.890625 48 \nQ 26.265625 48 22.1875 43.046875 \nQ 18.109375 38.09375 18.109375 28.8125 \nL 18.109375 0 \nL 9.078125 0 \nL 9.078125 54.6875 \nL 18.109375 54.6875 \nL 18.109375 46.1875 \nQ 20.953125 51.171875 25.484375 53.578125 \nQ 30.03125 56 36.53125 56 \nQ 37.453125 56 38.578125 55.875 \nQ 39.703125 55.765625 41.0625 55.515625 \nz\n\" id=\"DejaVuSans-114\"/>\n      <path d=\"M 9.078125 75.984375 \nL 18.109375 75.984375 \nL 18.109375 31.109375 \nL 44.921875 54.6875 \nL 56.390625 54.6875 \nL 27.390625 29.109375 \nL 57.625 0 \nL 45.90625 0 \nL 18.109375 26.703125 \nL 18.109375 0 \nL 9.078125 0 \nz\n\" id=\"DejaVuSans-107\"/>\n      <path id=\"DejaVuSans-32\"/>\n      <path d=\"M 34.28125 27.484375 \nQ 23.390625 27.484375 19.1875 25 \nQ 14.984375 22.515625 14.984375 16.5 \nQ 14.984375 11.71875 18.140625 8.90625 \nQ 21.296875 6.109375 26.703125 6.109375 \nQ 34.1875 6.109375 38.703125 11.40625 \nQ 43.21875 16.703125 43.21875 25.484375 \nL 43.21875 27.484375 \nz\nM 52.203125 31.203125 \nL 52.203125 0 \nL 43.21875 0 \nL 43.21875 8.296875 \nQ 40.140625 3.328125 35.546875 0.953125 \nQ 30.953125 -1.421875 24.3125 -1.421875 \nQ 15.921875 -1.421875 10.953125 3.296875 \nQ 6 8.015625 6 15.921875 \nQ 6 25.140625 12.171875 29.828125 \nQ 18.359375 34.515625 30.609375 34.515625 \nL 43.21875 34.515625 \nL 43.21875 35.40625 \nQ 43.21875 41.609375 39.140625 45 \nQ 35.0625 48.390625 27.6875 48.390625 \nQ 23 48.390625 18.546875 47.265625 \nQ 14.109375 46.140625 10.015625 43.890625 \nL 10.015625 52.203125 \nQ 14.9375 54.109375 19.578125 55.046875 \nQ 24.21875 56 28.609375 56 \nQ 40.484375 56 46.34375 49.84375 \nQ 52.203125 43.703125 52.203125 31.203125 \nz\n\" id=\"DejaVuSans-97\"/>\n      <path d=\"M 37.109375 75.984375 \nL 37.109375 68.5 \nL 28.515625 68.5 \nQ 23.6875 68.5 21.796875 66.546875 \nQ 19.921875 64.59375 19.921875 59.515625 \nL 19.921875 54.6875 \nL 34.71875 54.6875 \nL 34.71875 47.703125 \nL 19.921875 47.703125 \nL 19.921875 0 \nL 10.890625 0 \nL 10.890625 47.703125 \nL 2.296875 47.703125 \nL 2.296875 54.6875 \nL 10.890625 54.6875 \nL 10.890625 58.5 \nQ 10.890625 67.625 15.140625 71.796875 \nQ 19.390625 75.984375 28.609375 75.984375 \nz\n\" id=\"DejaVuSans-102\"/>\n      <path d=\"M 9.421875 54.6875 \nL 18.40625 54.6875 \nL 18.40625 0 \nL 9.421875 0 \nz\nM 9.421875 75.984375 \nL 18.40625 75.984375 \nL 18.40625 64.59375 \nL 9.421875 64.59375 \nz\n\" id=\"DejaVuSans-105\"/>\n      <path d=\"M 48.78125 52.59375 \nL 48.78125 44.1875 \nQ 44.96875 46.296875 41.140625 47.34375 \nQ 37.3125 48.390625 33.40625 48.390625 \nQ 24.65625 48.390625 19.8125 42.84375 \nQ 14.984375 37.3125 14.984375 27.296875 \nQ 14.984375 17.28125 19.8125 11.734375 \nQ 24.65625 6.203125 33.40625 6.203125 \nQ 37.3125 6.203125 41.140625 7.25 \nQ 44.96875 8.296875 48.78125 10.40625 \nL 48.78125 2.09375 \nQ 45.015625 0.34375 40.984375 -0.53125 \nQ 36.96875 -1.421875 32.421875 -1.421875 \nQ 20.0625 -1.421875 12.78125 6.34375 \nQ 5.515625 14.109375 5.515625 27.296875 \nQ 5.515625 40.671875 12.859375 48.328125 \nQ 20.21875 56 33.015625 56 \nQ 37.15625 56 41.109375 55.140625 \nQ 45.0625 54.296875 48.78125 52.59375 \nz\n\" id=\"DejaVuSans-99\"/>\n      <path d=\"M 54.890625 33.015625 \nL 54.890625 0 \nL 45.90625 0 \nL 45.90625 32.71875 \nQ 45.90625 40.484375 42.875 44.328125 \nQ 39.84375 48.1875 33.796875 48.1875 \nQ 26.515625 48.1875 22.3125 43.546875 \nQ 18.109375 38.921875 18.109375 30.90625 \nL 18.109375 0 \nL 9.078125 0 \nL 9.078125 54.6875 \nL 18.109375 54.6875 \nL 18.109375 46.1875 \nQ 21.34375 51.125 25.703125 53.5625 \nQ 30.078125 56 35.796875 56 \nQ 45.21875 56 50.046875 50.171875 \nQ 54.890625 44.34375 54.890625 33.015625 \nz\n\" id=\"DejaVuSans-110\"/>\n      <path d=\"M 52 44.1875 \nQ 55.375 50.25 60.0625 53.125 \nQ 64.75 56 71.09375 56 \nQ 79.640625 56 84.28125 50.015625 \nQ 88.921875 44.046875 88.921875 33.015625 \nL 88.921875 0 \nL 79.890625 0 \nL 79.890625 32.71875 \nQ 79.890625 40.578125 77.09375 44.375 \nQ 74.3125 48.1875 68.609375 48.1875 \nQ 61.625 48.1875 57.5625 43.546875 \nQ 53.515625 38.921875 53.515625 30.90625 \nL 53.515625 0 \nL 44.484375 0 \nL 44.484375 32.71875 \nQ 44.484375 40.625 41.703125 44.40625 \nQ 38.921875 48.1875 33.109375 48.1875 \nQ 26.21875 48.1875 22.15625 43.53125 \nQ 18.109375 38.875 18.109375 30.90625 \nL 18.109375 0 \nL 9.078125 0 \nL 9.078125 54.6875 \nL 18.109375 54.6875 \nL 18.109375 46.1875 \nQ 21.1875 51.21875 25.484375 53.609375 \nQ 29.78125 56 35.6875 56 \nQ 41.65625 56 45.828125 52.96875 \nQ 50 49.953125 52 44.1875 \nz\n\" id=\"DejaVuSans-109\"/>\n      <path d=\"M 2.984375 54.6875 \nL 12.5 54.6875 \nL 29.59375 8.796875 \nL 46.6875 54.6875 \nL 56.203125 54.6875 \nL 35.6875 0 \nL 23.484375 0 \nz\n\" id=\"DejaVuSans-118\"/>\n      <path d=\"M 9.421875 75.984375 \nL 18.40625 75.984375 \nL 18.40625 0 \nL 9.421875 0 \nz\n\" id=\"DejaVuSans-108\"/>\n     </defs>\n     <use xlink:href=\"#DejaVuSans-78\"/>\n     <use x=\"74.804688\" xlink:href=\"#DejaVuSans-101\"/>\n     <use x=\"136.328125\" xlink:href=\"#DejaVuSans-116\"/>\n     <use x=\"175.537109\" xlink:href=\"#DejaVuSans-119\"/>\n     <use x=\"257.324219\" xlink:href=\"#DejaVuSans-111\"/>\n     <use x=\"318.505859\" xlink:href=\"#DejaVuSans-114\"/>\n     <use x=\"359.619141\" xlink:href=\"#DejaVuSans-107\"/>\n     <use x=\"417.529297\" xlink:href=\"#DejaVuSans-32\"/>\n     <use x=\"449.316406\" xlink:href=\"#DejaVuSans-116\"/>\n     <use x=\"488.525391\" xlink:href=\"#DejaVuSans-114\"/>\n     <use x=\"529.638672\" xlink:href=\"#DejaVuSans-97\"/>\n     <use x=\"590.917969\" xlink:href=\"#DejaVuSans-102\"/>\n     <use x=\"626.123047\" xlink:href=\"#DejaVuSans-102\"/>\n     <use x=\"661.328125\" xlink:href=\"#DejaVuSans-105\"/>\n     <use x=\"689.111328\" xlink:href=\"#DejaVuSans-99\"/>\n     <use x=\"744.091797\" xlink:href=\"#DejaVuSans-32\"/>\n     <use x=\"775.878906\" xlink:href=\"#DejaVuSans-105\"/>\n     <use x=\"803.662109\" xlink:href=\"#DejaVuSans-110\"/>\n     <use x=\"867.041016\" xlink:href=\"#DejaVuSans-32\"/>\n     <use x=\"898.828125\" xlink:href=\"#DejaVuSans-51\"/>\n     <use x=\"962.451172\" xlink:href=\"#DejaVuSans-48\"/>\n     <use x=\"1026.074219\" xlink:href=\"#DejaVuSans-45\"/>\n     <use x=\"1062.158203\" xlink:href=\"#DejaVuSans-109\"/>\n     <use x=\"1159.570312\" xlink:href=\"#DejaVuSans-105\"/>\n     <use x=\"1187.353516\" xlink:href=\"#DejaVuSans-110\"/>\n     <use x=\"1250.732422\" xlink:href=\"#DejaVuSans-32\"/>\n     <use x=\"1282.519531\" xlink:href=\"#DejaVuSans-105\"/>\n     <use x=\"1310.302734\" xlink:href=\"#DejaVuSans-110\"/>\n     <use x=\"1373.681641\" xlink:href=\"#DejaVuSans-116\"/>\n     <use x=\"1412.890625\" xlink:href=\"#DejaVuSans-101\"/>\n     <use x=\"1474.414062\" xlink:href=\"#DejaVuSans-114\"/>\n     <use x=\"1515.527344\" xlink:href=\"#DejaVuSans-118\"/>\n     <use x=\"1574.707031\" xlink:href=\"#DejaVuSans-97\"/>\n     <use x=\"1635.986328\" xlink:href=\"#DejaVuSans-108\"/>\n    </g>\n   </g>\n  </g>\n </g>\n <defs>\n  <clipPath id=\"p5f864fa5eb\">\n   <rect height=\"217.44\" width=\"837\" x=\"30.103125\" y=\"22.318125\"/>\n  </clipPath>\n </defs>\n</svg>\n",
      "image/png": "[encoded data removed]"
     },
     "metadata": {
      "needs_background": "light"
     }
    }
   ],
   "source": [
    "print(\"Taffic in 30-min interval\")\n",
    "print(\"Min: {:.2f} MB\".format(traffic['traffic'].min()))\n",
    "print(\"Max: {:.2f} MB\".format(traffic['traffic'].max()))\n",
    "print(\"Avg: {:.2f} MB\".format(traffic['traffic'].mean()))\n",
    "plt.figure(figsize=(15,4))\n",
    "plt.plot(traffic)\n",
    "plt.title(\"Network traffic in 30-min interval\")\n",
    "plt.show()"
   ]
  },
  {
   "source": [
    "# Studying the area covered by the base station"
   ],
   "cell_type": "markdown",
   "metadata": {}
  },
  {
   "source": [
    "## Identify the role of area"
   ],
   "cell_type": "markdown",
   "metadata": {}
  },
  {
   "cell_type": "code",
   "execution_count": 16,
   "metadata": {},
   "outputs": [],
   "source": [
    "# Load base station POI data\n",
    "base_poi = pd.read_csv(\"base_poi.txt\", delimiter='\\t')\n",
    "base_poi.set_index('BaseID', inplace=True)"
   ]
  },
  {
   "cell_type": "code",
   "execution_count": 17,
   "metadata": {},
   "outputs": [
    {
     "output_type": "stream",
     "name": "stdout",
     "text": [
      "Medical care                  12\nHotel                         12\nBusiness affairs             249\nLife service                   9\nTransportation hub             5\nCulture                        6\nSports                        17\nResidence                    436\nEntertainment and leisure      3\nScenic spot                   37\nGovernment                    19\nFactory                        5\nShopping                      23\nRestaurant                    13\nEducation                     14\nLandmark                      85\nOther                         28\ndtype: int64\n\nAssuming an area with 80% same kind of POI is a functional neighbourhood\nWe can identify 973 out of 9851 areas (base stations)\n"
     ]
    }
   ],
   "source": [
    "base_specific = base_poi.copy()\n",
    "\n",
    "# Get the ratio of POI\n",
    "base_specific['sum'] = base_specific.sum(axis=1)\n",
    "for i in base_specific.columns[:-1]:\n",
    "    base_specific[i] = base_specific[i] / base_specific['sum']\n",
    "\n",
    "\n",
    "base_80 = base_specific[base_specific >= 0.8].drop('sum', axis=1)\n",
    "print(base_80.count())\n",
    "print()\n",
    "print(\"Assuming an area with 80% same kind of POI is a functional neighbourhood\")\n",
    "print(\"We can identify {} out of {} areas (base stations)\".format(base_80.count().sum(), base_poi.shape[0]))\n"
   ]
  },
  {
   "cell_type": "code",
   "execution_count": 18,
   "metadata": {},
   "outputs": [],
   "source": [
    "# Remove BaseID that cannot be categorised\n",
    "base_80_clean = base_80.dropna(how='all')\n",
    "\n",
    "# Create a dict with spefici role and the BaseID\n",
    "specific_area = {}\n",
    "for i in base_80_clean.columns:\n",
    "    specific_area[i] = base_80_clean[base_80_clean[i] == True].index.tolist()"
   ]
  },
  {
   "cell_type": "code",
   "execution_count": 19,
   "metadata": {},
   "outputs": [
    {
     "output_type": "stream",
     "name": "stdout",
     "text": [
      "['Medical care', 'Hotel', 'Business affairs', 'Life service', 'Transportation hub', 'Culture', 'Sports', 'Residence', 'Entertainment and leisure', 'Scenic spot', 'Government', 'Factory', 'Shopping', 'Restaurant', 'Education', 'Landmark', 'Other']\n"
     ]
    }
   ],
   "source": [
    "roles = [str(x) for x in specific_area.keys()]\n",
    "print(roles)"
   ]
  },
  {
   "source": [
    "## Number of records that we can explore in certain areas"
   ],
   "cell_type": "code",
   "metadata": {},
   "execution_count": 20,
   "outputs": []
  },
  {
   "source": [
    "for i in roles:\n",
    "\n",
    "    n_entry = usage[usage['loc'].isin(specific_area[i])].shape[0]\n",
    "    print(\"{:15}: {}\".format(i.split()[0], n_entry))\n"
   ],
   "cell_type": "code",
   "metadata": {},
   "execution_count": 21,
   "outputs": [
    {
     "output_type": "stream",
     "name": "stdout",
     "text": [
      "Medical        : 1480\n",
      "Hotel          : 4992\n",
      "Business       : 48502\n",
      "Life           : 2400\n",
      "Transportation : 965\n",
      "Culture        : 917\n",
      "Sports         : 8724\n",
      "Residence      : 93276\n",
      "Entertainment  : 1842\n",
      "Scenic         : 6471\n",
      "Government     : 4354\n",
      "Factory        : 2013\n",
      "Shopping       : 4512\n",
      "Restaurant     : 5448\n",
      "Education      : 1144\n",
      "Landmark       : 7691\n",
      "Other          : 11730\n"
     ]
    }
   ]
  },
  {
   "cell_type": "code",
   "execution_count": 22,
   "metadata": {},
   "outputs": [],
   "source": [
    "def assign(x, n):\n",
    "    try: return list(x)[n]\n",
    "    except: return None\n",
    "\n",
    "def find_cat(i):\n",
    "    x = app2cat[app2cat['app_id'] == i].iloc[0]['cat_id']\n",
    "    return cat.iloc[int(x)-1]['category']\n",
    "\n",
    "def app_app_behavior(area):\n",
    "\n",
    "    # Get a list of unique users\n",
    "    unique_users = area['uid'].unique()\n",
    "\n",
    "    # Count how many users with only 1 entry\n",
    "    one_entry = 0\n",
    "\n",
    "    # Create the dictionary to record the appset and set appearance\n",
    "    app_app_per_user = {}\n",
    "    app_app_per_user['uid'] = []\n",
    "    app_app_per_user['app_set'] = []\n",
    "    app_app_per_user['combo_record'] = []\n",
    "\n",
    "    for i in unique_users:\n",
    "        # Filter a dataset for that unique user\n",
    "        user_usage = area[area['uid'] == i]\n",
    "        if user_usage.shape[0] > 1:\n",
    "            appset, record = app_set(user_usage)\n",
    "            app_app_per_user['uid'].append(i)\n",
    "            app_app_per_user['app_set'].append(appset)\n",
    "            app_app_per_user['combo_record'].append(record)\n",
    "\n",
    "            # Create df for easier operation\n",
    "            user_app_app = pd.DataFrame(app_app_per_user)\n",
    "            user_app_app.set_index('uid', inplace=True)\n",
    "        \n",
    "        else:\n",
    "            one_entry += 1\n",
    "    print(\"{} out of {} users has one record only.\".format(one_entry, len(unique_users)))\n",
    "\n",
    "    # # Create the top 3 combo of each user\n",
    "    for i in ['1','2','3']:\n",
    "        try:\n",
    "            user_app_app[i] = user_app_app['combo_record'].apply(lambda x: assign(x, int(i)-1))\n",
    "        except:\n",
    "            print(i, \"Some users do not have top 3\")\n",
    "\n",
    "    # Show only top 5 combo\n",
    "    top_n_combo = 5\n",
    "\n",
    "    # Create the top 3 combo summary\n",
    "    top_3 = pd.concat([user_app_app['1'],user_app_app['2'], user_app_app['3']], axis=0, ignore_index=True)\n",
    "    top_3 = top_3.value_counts()\n",
    "\n",
    "    # print('{:<55} | {:55} | {:5}'.format(\"App 1\",\"App 2\", \"User out of {}\".format(len(unique_users))))\n",
    "    # print('-'*140)\n",
    "    # for i in range(top_n_combo):\n",
    "    #     x = top_3.index[i]\n",
    "    #     a = find_cat(x[0])\n",
    "    #     b = find_cat(x[1])\n",
    "    #     print('{:5}{:50} | {:5}{:50} |'.format(x[0], a, x[1], b, \"i\"), top_3.iloc[i])\n",
    "    #     print('-'*140)\n",
    "\n",
    "    top_3 = top_3.reset_index()\n",
    "    top_3.columns = ['app_set', 'count']\n",
    "    top_3['cat_set'] = top_3['app_set'].apply(lambda x: (find_cat(str(x[0])), find_cat(str(x[1]))))\n",
    "\n",
    "    app_app_cat = pd.pivot_table(top_3, index='cat_set', values='count', aggfunc='sum').sort_values('count', ascending=False).head(10)\n",
    "    print(app_app_cat)"
   ]
  },
  {
   "source": [
    "## App switching behaviour in a categorized area"
   ],
   "cell_type": "markdown",
   "metadata": {}
  },
  {
   "cell_type": "code",
   "execution_count": 272,
   "metadata": {
    "tags": []
   },
   "outputs": [],
   "source": [
    "# for i in roles:\n",
    "\n",
    "#     print(i)\n",
    "#     print('-'*100)\n",
    "#     print()\n",
    "#     app_app_behavior(usage[usage['loc'].isin(specific_area[i])])\n",
    "#     print()\n",
    "#     print('-'*100)"
   ]
  },
  {
   "source": [
    "The above results calculated by:\n",
    "- Subset the app usage from a categorized base station area\n",
    "- Identify the top 3 app switching pattern\n",
    "- Aggregate by the app switch among all users "
   ],
   "cell_type": "markdown",
   "metadata": {}
  },
  {
   "cell_type": "code",
   "execution_count": 27,
   "metadata": {},
   "outputs": [],
   "source": []
  },
  {
   "cell_type": "code",
   "execution_count": 43,
   "metadata": {},
   "outputs": [
    {
     "output_type": "stream",
     "name": "stdout",
     "text": [
      "count       871.000\nmean       4789.839\nstd       38407.519\nmin           4.000\n25%         647.500\n50%        1659.000\n75%        3534.000\nmax     1098748.000\nName: uid, dtype: float64\n\nOver half of the users contain 1659 records in 7 days\n"
     ]
    }
   ],
   "source": [
    "user_entry = usage['uid'].value_counts()\n",
    "pd.set_option('float_format', '{:.3f}'.format)\n",
    "print(user_entry.describe())\n",
    "print()\n",
    "print(\"Over half of the users contain 1659 records in 7 days\")"
   ]
  },
  {
   "source": [
    "# Getting user daily behaviour\n",
    "## Will document how I get this later"
   ],
   "cell_type": "markdown",
   "metadata": {}
  },
  {
   "cell_type": "code",
   "execution_count": 260,
   "metadata": {},
   "outputs": [
    {
     "output_type": "stream",
     "name": "stderr",
     "text": [
      "<ipython-input-260-745b6e5dd9d5>:3: SettingWithCopyWarning: \nA value is trying to be set on a copy of a slice from a DataFrame.\nTry using .loc[row_indexer,col_indexer] = value instead\n\nSee the caveats in the documentation: https://pandas.pydata.org/pandas-docs/stable/user_guide/indexing.html#returning-a-view-versus-a-copy\n  user_0['app_cat'] = user_0['app_id'].apply(lambda x: find_cat(x))\n<ipython-input-260-745b6e5dd9d5>:4: SettingWithCopyWarning: \nA value is trying to be set on a copy of a slice from a DataFrame.\nTry using .loc[row_indexer,col_indexer] = value instead\n\nSee the caveats in the documentation: https://pandas.pydata.org/pandas-docs/stable/user_guide/indexing.html#returning-a-view-versus-a-copy\n  user_0['app_id_offset'] = user_0['app_id'].shift(1)\n"
     ]
    }
   ],
   "source": [
    "user_0 = usage[usage['uid'] == '190']\n",
    "user_0.reset_index(inplace=True)\n",
    "user_0['app_cat'] = user_0['app_id'].apply(lambda x: find_cat(x))\n",
    "user_0['app_id_offset'] = user_0['app_id'].shift(1)\n",
    "user_0_duration = user_0[user_0['app_id'] != user_0['app_id_offset']]"
   ]
  },
  {
   "cell_type": "code",
   "execution_count": 267,
   "metadata": {},
   "outputs": [
    {
     "output_type": "stream",
     "name": "stderr",
     "text": [
      "<ipython-input-267-1bb4e3a1d097>:3: SettingWithCopyWarning: \nA value is trying to be set on a copy of a slice from a DataFrame.\nTry using .loc[row_indexer,col_indexer] = value instead\n\nSee the caveats in the documentation: https://pandas.pydata.org/pandas-docs/stable/user_guide/indexing.html#returning-a-view-versus-a-copy\n  user_0['app_cat'] = user_0['app_id'].apply(lambda x: find_cat(x))\n<ipython-input-267-1bb4e3a1d097>:4: SettingWithCopyWarning: \nA value is trying to be set on a copy of a slice from a DataFrame.\nTry using .loc[row_indexer,col_indexer] = value instead\n\nSee the caveats in the documentation: https://pandas.pydata.org/pandas-docs/stable/user_guide/indexing.html#returning-a-view-versus-a-copy\n  user_0['app_id_offset'] = user_0['app_id'].shift(1)\n"
     ]
    }
   ],
   "source": [
    "user_0 = usage[usage['uid'] == '888']\n",
    "user_0.reset_index(inplace=True)\n",
    "user_0['app_cat'] = user_0['app_id'].apply(lambda x: find_cat(x))\n",
    "user_0['app_id_offset'] = user_0['app_id'].shift(1)\n",
    "user_0_duration = user_0[user_0['app_id'] != user_0['app_id_offset']]\n",
    "\n",
    "start = []\n",
    "duration = []\n",
    "app = []\n",
    "app_id = []\n",
    "location = []\n",
    "traffic = []\n",
    "for i in range(user_0_duration.shape[0]):\n",
    "    entry = user_0_duration.iloc[i]\n",
    "    app1_time = entry['timestamp']\n",
    "    start.append(app1_time)\n",
    "    try: duration.append(user_0_duration.iloc[i+1]['timestamp'] - app1_time)\n",
    "    except: duration.append(app1_time - app1_time)\n",
    "    app.append(entry['app_cat'])\n",
    "    app_id.append(entry['app_id'])\n",
    "    location.append(entry['loc'])\n",
    "\n",
    "user_0_summary = pd.DataFrame({'start':start,'app':app,'app_id': app_id, 'delta':duration, 'loc':location, })"
   ]
  },
  {
   "cell_type": "code",
   "execution_count": 271,
   "metadata": {},
   "outputs": [
    {
     "output_type": "execute_result",
     "data": {
      "text/plain": [
       "                  start                   app app_id           delta   loc\n",
       "157 2016-04-21 19:24:47          'Lifestyle '    770 0 days 00:06:09  3912\n",
       "158 2016-04-21 19:30:56          'Lifestyle '    781 0 days 01:47:43  3912\n",
       "159 2016-04-21 21:18:39  'Social\\_Networking'      1 0 days 00:16:26  3912\n",
       "160 2016-04-21 21:35:05       'Entertainment'     98 0 days 00:23:19  3912\n",
       "161 2016-04-21 21:58:24              'sports'    249 0 days 00:29:26  3910\n",
       "162 2016-04-21 22:27:50              'sports'     68 0 days 00:00:03  3910\n",
       "163 2016-04-21 22:27:53       'Entertainment'    755 0 days 08:30:07  3910\n",
       "164 2016-04-22 06:58:00              'sports'     42 0 days 00:49:04  6484\n",
       "165 2016-04-22 07:47:04  'Social\\_Networking'      1 0 days 00:23:44  3912\n",
       "166 2016-04-22 08:10:48          'Lifestyle '     33 0 days 00:13:34   661\n",
       "167 2016-04-22 08:24:22  'Social\\_Networking'      2 0 days 00:00:00   661\n",
       "168 2016-04-22 08:24:22              'sports'    569 0 days 00:00:01   661\n",
       "169 2016-04-22 08:24:23  'Social\\_Networking'      2 0 days 00:00:00   661\n",
       "170 2016-04-22 08:24:23              'sports'    569 0 days 00:00:01   661\n",
       "171 2016-04-22 08:24:24  'Social\\_Networking'      2 0 days 00:00:00   661\n",
       "172 2016-04-22 08:24:24              'sports'    569 0 days 00:00:03   661\n",
       "173 2016-04-22 08:24:27  'Social\\_Networking'      2 0 days 00:00:19   661\n",
       "174 2016-04-22 08:24:46              'sports'    569 0 days 00:00:03   661\n",
       "175 2016-04-22 08:24:49  'Social\\_Networking'      2 0 days 00:00:11   661\n",
       "176 2016-04-22 08:25:00              'sports'    569 0 days 00:00:01   661\n",
       "177 2016-04-22 08:25:01  'Social\\_Networking'      2 0 days 00:00:02   661\n",
       "178 2016-04-22 08:25:03              'sports'    569 0 days 00:00:10   661\n",
       "179 2016-04-22 08:25:13  'Social\\_Networking'      2 0 days 00:00:59   661\n",
       "180 2016-04-22 08:26:12              'sports'    569 0 days 00:00:01   661\n",
       "181 2016-04-22 08:26:13  'Social\\_Networking'      2 0 days 00:00:00   661\n",
       "182 2016-04-22 08:26:13              'sports'    569 0 days 00:00:01   661\n",
       "183 2016-04-22 08:26:14  'Social\\_Networking'      2 0 days 00:00:12   661\n",
       "184 2016-04-22 08:26:26              'sports'    569 0 days 00:00:01   661\n",
       "185 2016-04-22 08:26:27  'Social\\_Networking'      2 0 days 00:00:13   661\n",
       "186 2016-04-22 08:26:40              'sports'    569 0 days 00:00:01   661\n",
       "187 2016-04-22 08:26:41  'Social\\_Networking'      2 0 days 00:00:20   661\n",
       "188 2016-04-22 08:27:01              'sports'    569 0 days 00:00:04   661\n",
       "189 2016-04-22 08:27:05  'Social\\_Networking'      2 0 days 00:01:11   661\n",
       "190 2016-04-22 08:28:16          'Navigation'      9 0 days 00:00:09   661\n",
       "191 2016-04-22 08:28:25          'Lifestyle '     33 0 days 00:19:17   661\n",
       "192 2016-04-22 08:47:42          'Navigation'      9 0 days 00:36:38   661\n",
       "193 2016-04-22 09:24:20  'Social\\_Networking'      2 0 days 00:00:03   661\n",
       "194 2016-04-22 09:24:23  'Social\\_Networking'      1 0 days 00:03:00   661\n",
       "195 2016-04-22 09:27:23          'Lifestyle '     33 0 days 01:12:59   661\n",
       "196 2016-04-22 10:40:22              'sports'   1080 0 days 00:00:05   661\n",
       "197 2016-04-22 10:40:27              'sports'     38 0 days 00:00:02   661\n",
       "198 2016-04-22 10:40:29              'sports'   1080 0 days 00:06:12   661\n",
       "199 2016-04-22 10:46:41  'Social\\_Networking'      2 0 days 00:10:12   824\n",
       "200 2016-04-22 10:56:53              'sports'   1080 0 days 00:19:48  1207\n",
       "201 2016-04-22 11:16:41  'Social\\_Networking'      2 0 days 00:00:02  1207\n",
       "202 2016-04-22 11:16:43              'sports'   1080 0 days 00:00:30  1207\n",
       "203 2016-04-22 11:17:13  'Social\\_Networking'      2 0 days 02:12:56  1207\n",
       "204 2016-04-22 13:30:09  'Social\\_Networking'      1 0 days 00:26:08   661\n",
       "205 2016-04-22 13:56:17              'sports'     51 0 days 00:00:30   661\n",
       "206 2016-04-22 13:56:47  'Social\\_Networking'      2 0 days 02:05:49   661"
      ],
      "text/html": "<div>\n<style scoped>\n    .dataframe tbody tr th:only-of-type {\n        vertical-align: middle;\n    }\n\n    .dataframe tbody tr th {\n        vertical-align: top;\n    }\n\n    .dataframe thead th {\n        text-align: right;\n    }\n</style>\n<table border=\"1\" class=\"dataframe\">\n  <thead>\n    <tr style=\"text-align: right;\">\n      <th></th>\n      <th>start</th>\n      <th>app</th>\n      <th>app_id</th>\n      <th>delta</th>\n      <th>loc</th>\n    </tr>\n  </thead>\n  <tbody>\n    <tr>\n      <th>157</th>\n      <td>2016-04-21 19:24:47</td>\n      <td>'Lifestyle '</td>\n      <td>770</td>\n      <td>0 days 00:06:09</td>\n      <td>3912</td>\n    </tr>\n    <tr>\n      <th>158</th>\n      <td>2016-04-21 19:30:56</td>\n      <td>'Lifestyle '</td>\n      <td>781</td>\n      <td>0 days 01:47:43</td>\n      <td>3912</td>\n    </tr>\n    <tr>\n      <th>159</th>\n      <td>2016-04-21 21:18:39</td>\n      <td>'Social\\_Networking'</td>\n      <td>1</td>\n      <td>0 days 00:16:26</td>\n      <td>3912</td>\n    </tr>\n    <tr>\n      <th>160</th>\n      <td>2016-04-21 21:35:05</td>\n      <td>'Entertainment'</td>\n      <td>98</td>\n      <td>0 days 00:23:19</td>\n      <td>3912</td>\n    </tr>\n    <tr>\n      <th>161</th>\n      <td>2016-04-21 21:58:24</td>\n      <td>'sports'</td>\n      <td>249</td>\n      <td>0 days 00:29:26</td>\n      <td>3910</td>\n    </tr>\n    <tr>\n      <th>162</th>\n      <td>2016-04-21 22:27:50</td>\n      <td>'sports'</td>\n      <td>68</td>\n      <td>0 days 00:00:03</td>\n      <td>3910</td>\n    </tr>\n    <tr>\n      <th>163</th>\n      <td>2016-04-21 22:27:53</td>\n      <td>'Entertainment'</td>\n      <td>755</td>\n      <td>0 days 08:30:07</td>\n      <td>3910</td>\n    </tr>\n    <tr>\n      <th>164</th>\n      <td>2016-04-22 06:58:00</td>\n      <td>'sports'</td>\n      <td>42</td>\n      <td>0 days 00:49:04</td>\n      <td>6484</td>\n    </tr>\n    <tr>\n      <th>165</th>\n      <td>2016-04-22 07:47:04</td>\n      <td>'Social\\_Networking'</td>\n      <td>1</td>\n      <td>0 days 00:23:44</td>\n      <td>3912</td>\n    </tr>\n    <tr>\n      <th>166</th>\n      <td>2016-04-22 08:10:48</td>\n      <td>'Lifestyle '</td>\n      <td>33</td>\n      <td>0 days 00:13:34</td>\n      <td>661</td>\n    </tr>\n    <tr>\n      <th>167</th>\n      <td>2016-04-22 08:24:22</td>\n      <td>'Social\\_Networking'</td>\n      <td>2</td>\n      <td>0 days 00:00:00</td>\n      <td>661</td>\n    </tr>\n    <tr>\n      <th>168</th>\n      <td>2016-04-22 08:24:22</td>\n      <td>'sports'</td>\n      <td>569</td>\n      <td>0 days 00:00:01</td>\n      <td>661</td>\n    </tr>\n    <tr>\n      <th>169</th>\n      <td>2016-04-22 08:24:23</td>\n      <td>'Social\\_Networking'</td>\n      <td>2</td>\n      <td>0 days 00:00:00</td>\n      <td>661</td>\n    </tr>\n    <tr>\n      <th>170</th>\n      <td>2016-04-22 08:24:23</td>\n      <td>'sports'</td>\n      <td>569</td>\n      <td>0 days 00:00:01</td>\n      <td>661</td>\n    </tr>\n    <tr>\n      <th>171</th>\n      <td>2016-04-22 08:24:24</td>\n      <td>'Social\\_Networking'</td>\n      <td>2</td>\n      <td>0 days 00:00:00</td>\n      <td>661</td>\n    </tr>\n    <tr>\n      <th>172</th>\n      <td>2016-04-22 08:24:24</td>\n      <td>'sports'</td>\n      <td>569</td>\n      <td>0 days 00:00:03</td>\n      <td>661</td>\n    </tr>\n    <tr>\n      <th>173</th>\n      <td>2016-04-22 08:24:27</td>\n      <td>'Social\\_Networking'</td>\n      <td>2</td>\n      <td>0 days 00:00:19</td>\n      <td>661</td>\n    </tr>\n    <tr>\n      <th>174</th>\n      <td>2016-04-22 08:24:46</td>\n      <td>'sports'</td>\n      <td>569</td>\n      <td>0 days 00:00:03</td>\n      <td>661</td>\n    </tr>\n    <tr>\n      <th>175</th>\n      <td>2016-04-22 08:24:49</td>\n      <td>'Social\\_Networking'</td>\n      <td>2</td>\n      <td>0 days 00:00:11</td>\n      <td>661</td>\n    </tr>\n    <tr>\n      <th>176</th>\n      <td>2016-04-22 08:25:00</td>\n      <td>'sports'</td>\n      <td>569</td>\n      <td>0 days 00:00:01</td>\n      <td>661</td>\n    </tr>\n    <tr>\n      <th>177</th>\n      <td>2016-04-22 08:25:01</td>\n      <td>'Social\\_Networking'</td>\n      <td>2</td>\n      <td>0 days 00:00:02</td>\n      <td>661</td>\n    </tr>\n    <tr>\n      <th>178</th>\n      <td>2016-04-22 08:25:03</td>\n      <td>'sports'</td>\n      <td>569</td>\n      <td>0 days 00:00:10</td>\n      <td>661</td>\n    </tr>\n    <tr>\n      <th>179</th>\n      <td>2016-04-22 08:25:13</td>\n      <td>'Social\\_Networking'</td>\n      <td>2</td>\n      <td>0 days 00:00:59</td>\n      <td>661</td>\n    </tr>\n    <tr>\n      <th>180</th>\n      <td>2016-04-22 08:26:12</td>\n      <td>'sports'</td>\n      <td>569</td>\n      <td>0 days 00:00:01</td>\n      <td>661</td>\n    </tr>\n    <tr>\n      <th>181</th>\n      <td>2016-04-22 08:26:13</td>\n      <td>'Social\\_Networking'</td>\n      <td>2</td>\n      <td>0 days 00:00:00</td>\n      <td>661</td>\n    </tr>\n    <tr>\n      <th>182</th>\n      <td>2016-04-22 08:26:13</td>\n      <td>'sports'</td>\n      <td>569</td>\n      <td>0 days 00:00:01</td>\n      <td>661</td>\n    </tr>\n    <tr>\n      <th>183</th>\n      <td>2016-04-22 08:26:14</td>\n      <td>'Social\\_Networking'</td>\n      <td>2</td>\n      <td>0 days 00:00:12</td>\n      <td>661</td>\n    </tr>\n    <tr>\n      <th>184</th>\n      <td>2016-04-22 08:26:26</td>\n      <td>'sports'</td>\n      <td>569</td>\n      <td>0 days 00:00:01</td>\n      <td>661</td>\n    </tr>\n    <tr>\n      <th>185</th>\n      <td>2016-04-22 08:26:27</td>\n      <td>'Social\\_Networking'</td>\n      <td>2</td>\n      <td>0 days 00:00:13</td>\n      <td>661</td>\n    </tr>\n    <tr>\n      <th>186</th>\n      <td>2016-04-22 08:26:40</td>\n      <td>'sports'</td>\n      <td>569</td>\n      <td>0 days 00:00:01</td>\n      <td>661</td>\n    </tr>\n    <tr>\n      <th>187</th>\n      <td>2016-04-22 08:26:41</td>\n      <td>'Social\\_Networking'</td>\n      <td>2</td>\n      <td>0 days 00:00:20</td>\n      <td>661</td>\n    </tr>\n    <tr>\n      <th>188</th>\n      <td>2016-04-22 08:27:01</td>\n      <td>'sports'</td>\n      <td>569</td>\n      <td>0 days 00:00:04</td>\n      <td>661</td>\n    </tr>\n    <tr>\n      <th>189</th>\n      <td>2016-04-22 08:27:05</td>\n      <td>'Social\\_Networking'</td>\n      <td>2</td>\n      <td>0 days 00:01:11</td>\n      <td>661</td>\n    </tr>\n    <tr>\n      <th>190</th>\n      <td>2016-04-22 08:28:16</td>\n      <td>'Navigation'</td>\n      <td>9</td>\n      <td>0 days 00:00:09</td>\n      <td>661</td>\n    </tr>\n    <tr>\n      <th>191</th>\n      <td>2016-04-22 08:28:25</td>\n      <td>'Lifestyle '</td>\n      <td>33</td>\n      <td>0 days 00:19:17</td>\n      <td>661</td>\n    </tr>\n    <tr>\n      <th>192</th>\n      <td>2016-04-22 08:47:42</td>\n      <td>'Navigation'</td>\n      <td>9</td>\n      <td>0 days 00:36:38</td>\n      <td>661</td>\n    </tr>\n    <tr>\n      <th>193</th>\n      <td>2016-04-22 09:24:20</td>\n      <td>'Social\\_Networking'</td>\n      <td>2</td>\n      <td>0 days 00:00:03</td>\n      <td>661</td>\n    </tr>\n    <tr>\n      <th>194</th>\n      <td>2016-04-22 09:24:23</td>\n      <td>'Social\\_Networking'</td>\n      <td>1</td>\n      <td>0 days 00:03:00</td>\n      <td>661</td>\n    </tr>\n    <tr>\n      <th>195</th>\n      <td>2016-04-22 09:27:23</td>\n      <td>'Lifestyle '</td>\n      <td>33</td>\n      <td>0 days 01:12:59</td>\n      <td>661</td>\n    </tr>\n    <tr>\n      <th>196</th>\n      <td>2016-04-22 10:40:22</td>\n      <td>'sports'</td>\n      <td>1080</td>\n      <td>0 days 00:00:05</td>\n      <td>661</td>\n    </tr>\n    <tr>\n      <th>197</th>\n      <td>2016-04-22 10:40:27</td>\n      <td>'sports'</td>\n      <td>38</td>\n      <td>0 days 00:00:02</td>\n      <td>661</td>\n    </tr>\n    <tr>\n      <th>198</th>\n      <td>2016-04-22 10:40:29</td>\n      <td>'sports'</td>\n      <td>1080</td>\n      <td>0 days 00:06:12</td>\n      <td>661</td>\n    </tr>\n    <tr>\n      <th>199</th>\n      <td>2016-04-22 10:46:41</td>\n      <td>'Social\\_Networking'</td>\n      <td>2</td>\n      <td>0 days 00:10:12</td>\n      <td>824</td>\n    </tr>\n    <tr>\n      <th>200</th>\n      <td>2016-04-22 10:56:53</td>\n      <td>'sports'</td>\n      <td>1080</td>\n      <td>0 days 00:19:48</td>\n      <td>1207</td>\n    </tr>\n    <tr>\n      <th>201</th>\n      <td>2016-04-22 11:16:41</td>\n      <td>'Social\\_Networking'</td>\n      <td>2</td>\n      <td>0 days 00:00:02</td>\n      <td>1207</td>\n    </tr>\n    <tr>\n      <th>202</th>\n      <td>2016-04-22 11:16:43</td>\n      <td>'sports'</td>\n      <td>1080</td>\n      <td>0 days 00:00:30</td>\n      <td>1207</td>\n    </tr>\n    <tr>\n      <th>203</th>\n      <td>2016-04-22 11:17:13</td>\n      <td>'Social\\_Networking'</td>\n      <td>2</td>\n      <td>0 days 02:12:56</td>\n      <td>1207</td>\n    </tr>\n    <tr>\n      <th>204</th>\n      <td>2016-04-22 13:30:09</td>\n      <td>'Social\\_Networking'</td>\n      <td>1</td>\n      <td>0 days 00:26:08</td>\n      <td>661</td>\n    </tr>\n    <tr>\n      <th>205</th>\n      <td>2016-04-22 13:56:17</td>\n      <td>'sports'</td>\n      <td>51</td>\n      <td>0 days 00:00:30</td>\n      <td>661</td>\n    </tr>\n    <tr>\n      <th>206</th>\n      <td>2016-04-22 13:56:47</td>\n      <td>'Social\\_Networking'</td>\n      <td>2</td>\n      <td>0 days 02:05:49</td>\n      <td>661</td>\n    </tr>\n  </tbody>\n</table>\n</div>"
     },
     "metadata": {},
     "execution_count": 271
    }
   ],
   "source": [
    "user_0_summary[user_0_summary['start'] > datetime(2016,4,21,6)].iloc[100:150]\n"
   ]
  },
  {
   "cell_type": "code",
   "execution_count": null,
   "metadata": {},
   "outputs": [],
   "source": []
  }
 ]
}