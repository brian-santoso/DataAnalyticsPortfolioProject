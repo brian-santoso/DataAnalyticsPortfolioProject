{
 "metadata": {
  "language_info": {
   "codemirror_mode": {
    "name": "ipython",
    "version": 3
   },
   "file_extension": ".py",
   "mimetype": "text/x-python",
   "name": "python",
   "nbconvert_exporter": "python",
   "pygments_lexer": "ipython3",
   "version": "3.7.4"
  },
  "orig_nbformat": 2,
  "kernelspec": {
   "name": "python374jvsc74a57bd06038c0ee8db233780d2258e0f517839f1e0d675968383c2c072a296dd1a5eb9c",
   "display_name": "Python 3.7.4 64-bit ('base': conda)"
  }
 },
 "nbformat": 4,
 "nbformat_minor": 2,
 "cells": [
  {
   "cell_type": "code",
   "execution_count": 1,
   "metadata": {},
   "outputs": [],
   "source": [
    "%load_ext autotime\n",
    "\n",
    "import pandas as pd\n",
    "import numpy as np\n",
    "from datetime import datetime, timedelta\n",
    "import matplotlib.pyplot as plt\n",
    "# pd.options.display.max_columns\n",
    "pd.set_option(\"display.max_colwidth\",200)\n",
    "pd.set_option(\"display.max_columns\",20)\n",
    "pd.set_option('float_format', '{:.3f}'.format)"
   ]
  },
  {
   "source": [
    "# Import original dataset"
   ],
   "cell_type": "markdown",
   "metadata": {}
  },
  {
   "cell_type": "code",
   "execution_count": 1,
   "metadata": {},
   "outputs": [
    {
     "output_type": "execute_result",
     "data": {
      "text/plain": [
       "  uid           timestamp   loc app_id  traffic   date\n",
       "0   0 2016-04-20 08:13:19  8194    361    0.002  04-20\n",
       "1   0 2016-04-20 08:13:20  8194    361    0.002  04-20\n",
       "2   0 2016-04-20 08:13:22  8194    361    0.004  04-20\n",
       "3   0 2016-04-20 08:13:30  8194    361    0.001  04-20\n",
       "4   0 2016-04-20 08:13:31  8194    361    0.002  04-20"
      ],
      "text/html": "<div>\n<style scoped>\n    .dataframe tbody tr th:only-of-type {\n        vertical-align: middle;\n    }\n\n    .dataframe tbody tr th {\n        vertical-align: top;\n    }\n\n    .dataframe thead th {\n        text-align: right;\n    }\n</style>\n<table border=\"1\" class=\"dataframe\">\n  <thead>\n    <tr style=\"text-align: right;\">\n      <th></th>\n      <th>uid</th>\n      <th>timestamp</th>\n      <th>loc</th>\n      <th>app_id</th>\n      <th>traffic</th>\n      <th>date</th>\n    </tr>\n  </thead>\n  <tbody>\n    <tr>\n      <th>0</th>\n      <td>0</td>\n      <td>2016-04-20 08:13:19</td>\n      <td>8194</td>\n      <td>361</td>\n      <td>0.002</td>\n      <td>04-20</td>\n    </tr>\n    <tr>\n      <th>1</th>\n      <td>0</td>\n      <td>2016-04-20 08:13:20</td>\n      <td>8194</td>\n      <td>361</td>\n      <td>0.002</td>\n      <td>04-20</td>\n    </tr>\n    <tr>\n      <th>2</th>\n      <td>0</td>\n      <td>2016-04-20 08:13:22</td>\n      <td>8194</td>\n      <td>361</td>\n      <td>0.004</td>\n      <td>04-20</td>\n    </tr>\n    <tr>\n      <th>3</th>\n      <td>0</td>\n      <td>2016-04-20 08:13:30</td>\n      <td>8194</td>\n      <td>361</td>\n      <td>0.001</td>\n      <td>04-20</td>\n    </tr>\n    <tr>\n      <th>4</th>\n      <td>0</td>\n      <td>2016-04-20 08:13:31</td>\n      <td>8194</td>\n      <td>361</td>\n      <td>0.002</td>\n      <td>04-20</td>\n    </tr>\n  </tbody>\n</table>\n</div>"
     },
     "metadata": {},
     "execution_count": 1
    }
   ],
   "source": [
    "import pandas as pd\n",
    "from datetime import datetime, timedelta\n",
    "import matplotlib.pyplot as plt\n",
    "# pd.options.display.max_columns\n",
    "pd.set_option(\"display.max_colwidth\",200)\n",
    "pd.set_option(\"display.max_columns\",20)\n",
    "pd.set_option('float_format', '{:.3f}'.format)\n",
    "\n",
    "# Load Usage data\n",
    "with open('App_usage_trace.txt') as f:\n",
    "    lines = f.readlines()#[:100000]\n",
    "    df = []\n",
    "    for line in lines:\n",
    "        data = line.split()\n",
    "        df.append(data)\n",
    "usage = pd.DataFrame(df, columns=['uid','timestamp', 'loc', 'app_id','traffic'])\n",
    "usage['traffic'] = usage['traffic'].astype('float64') / 1e6 # Convert traffic to MB\n",
    "usage['timestamp'] = usage['timestamp'].apply(lambda x: datetime.strptime( x, \"%Y%m%d%H%M%S\")) \n",
    "usage['loc'] = usage['loc'].astype('int64')\n",
    "usage[\"date\"] = usage[\"timestamp\"].dt.strftime(\"%m-%d\")\n",
    "# usage['next_timestamp'] = usage['timestamp'].shift(-1)\n",
    "# usage['time_delta'] = usage['next_timestamp'] - usage['timestamp']\n",
    "# mask = usage[\"uid\"] != usage[\"uid\"].shift(1)\n",
    "# usage['time_delta'] = np.where(mask == True, np.nan, usage[\"time_delta\"])\n",
    "usage.head()"
   ]
  },
  {
   "cell_type": "code",
   "execution_count": 3,
   "metadata": {},
   "outputs": [
    {
     "output_type": "execute_result",
     "data": {
      "text/plain": [
       "  uid           timestamp   loc app_id  traffic   date time_delta\n",
       "0   0 2016-04-20 08:13:19  8194    361    0.002  04-20        NaN\n",
       "1   0 2016-04-20 08:13:20  8194    361    0.002  04-20   00:00:01\n",
       "2   0 2016-04-20 08:13:22  8194    361    0.004  04-20   00:00:02\n",
       "3   0 2016-04-20 08:13:30  8194    361    0.001  04-20   00:00:08\n",
       "4   0 2016-04-20 08:13:31  8194    361    0.002  04-20   00:00:01"
      ],
      "text/html": "<div>\n<style scoped>\n    .dataframe tbody tr th:only-of-type {\n        vertical-align: middle;\n    }\n\n    .dataframe tbody tr th {\n        vertical-align: top;\n    }\n\n    .dataframe thead th {\n        text-align: right;\n    }\n</style>\n<table border=\"1\" class=\"dataframe\">\n  <thead>\n    <tr style=\"text-align: right;\">\n      <th></th>\n      <th>uid</th>\n      <th>timestamp</th>\n      <th>loc</th>\n      <th>app_id</th>\n      <th>traffic</th>\n      <th>date</th>\n      <th>time_delta</th>\n    </tr>\n  </thead>\n  <tbody>\n    <tr>\n      <th>0</th>\n      <td>0</td>\n      <td>2016-04-20 08:13:19</td>\n      <td>8194</td>\n      <td>361</td>\n      <td>0.002</td>\n      <td>04-20</td>\n      <td>NaN</td>\n    </tr>\n    <tr>\n      <th>1</th>\n      <td>0</td>\n      <td>2016-04-20 08:13:20</td>\n      <td>8194</td>\n      <td>361</td>\n      <td>0.002</td>\n      <td>04-20</td>\n      <td>00:00:01</td>\n    </tr>\n    <tr>\n      <th>2</th>\n      <td>0</td>\n      <td>2016-04-20 08:13:22</td>\n      <td>8194</td>\n      <td>361</td>\n      <td>0.004</td>\n      <td>04-20</td>\n      <td>00:00:02</td>\n    </tr>\n    <tr>\n      <th>3</th>\n      <td>0</td>\n      <td>2016-04-20 08:13:30</td>\n      <td>8194</td>\n      <td>361</td>\n      <td>0.001</td>\n      <td>04-20</td>\n      <td>00:00:08</td>\n    </tr>\n    <tr>\n      <th>4</th>\n      <td>0</td>\n      <td>2016-04-20 08:13:31</td>\n      <td>8194</td>\n      <td>361</td>\n      <td>0.002</td>\n      <td>04-20</td>\n      <td>00:00:01</td>\n    </tr>\n  </tbody>\n</table>\n</div>"
     },
     "metadata": {},
     "execution_count": 3
    },
    {
     "output_type": "stream",
     "name": "stdout",
     "text": [
      "time: 29.3 s\n"
     ]
    }
   ],
   "source": [
    "usage['time_delta'] = usage[\"timestamp\"].diff()\n",
    "mask = usage[\"uid\"] != usage[\"uid\"].shift(1)\n",
    "usage['time_delta'] = np.where(mask == True, np.datetime64('NaT'), usage['time_delta'])\n",
    "usage['time_delta'] = usage['time_delta'].dt.strftime(\"%H:%M:%S\")\n",
    "usage.head()"
   ]
  },
  {
   "cell_type": "code",
   "execution_count": 4,
   "metadata": {},
   "outputs": [
    {
     "output_type": "execute_result",
     "data": {
      "text/plain": [
       "  time_delta    count  percent\n",
       "0   00:00:00  1096514    0.263\n",
       "1   00:00:01  1566947    0.376\n",
       "2   00:00:02   331960    0.080\n",
       "3   00:00:03   179574    0.043\n",
       "4   00:00:04   113359    0.027\n",
       "5   00:00:05    84455    0.020\n",
       "6   00:00:06    60745    0.015\n",
       "7   00:00:07    47397    0.011\n",
       "8   00:00:08    38121    0.009\n",
       "9   00:00:09    34457    0.008"
      ],
      "text/html": "<div>\n<style scoped>\n    .dataframe tbody tr th:only-of-type {\n        vertical-align: middle;\n    }\n\n    .dataframe tbody tr th {\n        vertical-align: top;\n    }\n\n    .dataframe thead th {\n        text-align: right;\n    }\n</style>\n<table border=\"1\" class=\"dataframe\">\n  <thead>\n    <tr style=\"text-align: right;\">\n      <th></th>\n      <th>time_delta</th>\n      <th>count</th>\n      <th>percent</th>\n    </tr>\n  </thead>\n  <tbody>\n    <tr>\n      <th>0</th>\n      <td>00:00:00</td>\n      <td>1096514</td>\n      <td>0.263</td>\n    </tr>\n    <tr>\n      <th>1</th>\n      <td>00:00:01</td>\n      <td>1566947</td>\n      <td>0.376</td>\n    </tr>\n    <tr>\n      <th>2</th>\n      <td>00:00:02</td>\n      <td>331960</td>\n      <td>0.080</td>\n    </tr>\n    <tr>\n      <th>3</th>\n      <td>00:00:03</td>\n      <td>179574</td>\n      <td>0.043</td>\n    </tr>\n    <tr>\n      <th>4</th>\n      <td>00:00:04</td>\n      <td>113359</td>\n      <td>0.027</td>\n    </tr>\n    <tr>\n      <th>5</th>\n      <td>00:00:05</td>\n      <td>84455</td>\n      <td>0.020</td>\n    </tr>\n    <tr>\n      <th>6</th>\n      <td>00:00:06</td>\n      <td>60745</td>\n      <td>0.015</td>\n    </tr>\n    <tr>\n      <th>7</th>\n      <td>00:00:07</td>\n      <td>47397</td>\n      <td>0.011</td>\n    </tr>\n    <tr>\n      <th>8</th>\n      <td>00:00:08</td>\n      <td>38121</td>\n      <td>0.009</td>\n    </tr>\n    <tr>\n      <th>9</th>\n      <td>00:00:09</td>\n      <td>34457</td>\n      <td>0.008</td>\n    </tr>\n  </tbody>\n</table>\n</div>"
     },
     "metadata": {},
     "execution_count": 4
    },
    {
     "output_type": "stream",
     "name": "stdout",
     "text": [
      "time: 764 ms\n"
     ]
    }
   ],
   "source": [
    "time_delta_count = usage.groupby(['time_delta']).size().reset_index()\n",
    "time_delta_count.columns = [\"time_delta\", \"count\"]\n",
    "time_delta_count[\"percent\"] = time_delta_count['count']/time_delta_count['count'].sum()\n",
    "time_delta_count.head(10)"
   ]
  },
  {
   "source": [
    "# Import cleaned dataset\n",
    "## 1st) Cleaned\n",
    "## 2nd) Remove oscillation"
   ],
   "cell_type": "markdown",
   "metadata": {}
  },
  {
   "cell_type": "code",
   "execution_count": 5,
   "metadata": {},
   "outputs": [
    {
     "output_type": "execute_result",
     "data": {
      "text/plain": [
       "  uid           timestamp   loc app_id  traffic   date\n",
       "0   0 2016-04-20 08:13:19  8194    361    0.002  04-20\n",
       "1   0 2016-04-20 08:13:20  8194    361    0.002  04-20\n",
       "2   0 2016-04-20 08:13:22  8194    361    0.004  04-20\n",
       "3   0 2016-04-20 08:13:30  8194    361    0.001  04-20\n",
       "4   0 2016-04-20 08:13:31  8194    361    0.002  04-20"
      ],
      "text/html": "<div>\n<style scoped>\n    .dataframe tbody tr th:only-of-type {\n        vertical-align: middle;\n    }\n\n    .dataframe tbody tr th {\n        vertical-align: top;\n    }\n\n    .dataframe thead th {\n        text-align: right;\n    }\n</style>\n<table border=\"1\" class=\"dataframe\">\n  <thead>\n    <tr style=\"text-align: right;\">\n      <th></th>\n      <th>uid</th>\n      <th>timestamp</th>\n      <th>loc</th>\n      <th>app_id</th>\n      <th>traffic</th>\n      <th>date</th>\n    </tr>\n  </thead>\n  <tbody>\n    <tr>\n      <th>0</th>\n      <td>0</td>\n      <td>2016-04-20 08:13:19</td>\n      <td>8194</td>\n      <td>361</td>\n      <td>0.002</td>\n      <td>04-20</td>\n    </tr>\n    <tr>\n      <th>1</th>\n      <td>0</td>\n      <td>2016-04-20 08:13:20</td>\n      <td>8194</td>\n      <td>361</td>\n      <td>0.002</td>\n      <td>04-20</td>\n    </tr>\n    <tr>\n      <th>2</th>\n      <td>0</td>\n      <td>2016-04-20 08:13:22</td>\n      <td>8194</td>\n      <td>361</td>\n      <td>0.004</td>\n      <td>04-20</td>\n    </tr>\n    <tr>\n      <th>3</th>\n      <td>0</td>\n      <td>2016-04-20 08:13:30</td>\n      <td>8194</td>\n      <td>361</td>\n      <td>0.001</td>\n      <td>04-20</td>\n    </tr>\n    <tr>\n      <th>4</th>\n      <td>0</td>\n      <td>2016-04-20 08:13:31</td>\n      <td>8194</td>\n      <td>361</td>\n      <td>0.002</td>\n      <td>04-20</td>\n    </tr>\n  </tbody>\n</table>\n</div>"
     },
     "metadata": {},
     "execution_count": 5
    },
    {
     "output_type": "stream",
     "name": "stdout",
     "text": [
      "time: 1min 32s\n"
     ]
    }
   ],
   "source": [
    "import pandas as pd\n",
    "from datetime import datetime, timedelta\n",
    "import matplotlib.pyplot as plt\n",
    "# pd.options.display.max_columns\n",
    "pd.set_option(\"display.max_colwidth\",200)\n",
    "pd.set_option(\"display.max_columns\",20)\n",
    "pd.set_option('float_format', '{:.3f}'.format)\n",
    "\n",
    "# Load Usage data\n",
    "with open('rm_oscillated_raw_data.txt') as f:\n",
    "    lines = f.readlines()#[:100000]\n",
    "    df = []\n",
    "    for line in lines:\n",
    "        data = line.split(\",\")\n",
    "        df.append(data)\n",
    "cleaned_df1 = pd.DataFrame(df, columns=['uid','timestamp', 'loc', 'app_id','traffic'])\n",
    "cleaned_df1['timestamp'] = cleaned_df1['timestamp'].apply(lambda x: datetime.strptime(x, '%Y-%m-%d %H:%M:%S'))\n",
    "cleaned_df1[\"traffic\"] = cleaned_df1['traffic'].astype('float64')\n",
    "cleaned_df1[\"date\"] = cleaned_df1[\"timestamp\"].dt.strftime(\"%m-%d\")\n",
    "cleaned_df1.head()"
   ]
  },
  {
   "source": [
    "# Import second cleaned dataset\n",
    "## 1st) Remove oscillation\n",
    "## 2nd) cleaned"
   ],
   "cell_type": "markdown",
   "metadata": {}
  },
  {
   "cell_type": "code",
   "execution_count": 6,
   "metadata": {},
   "outputs": [
    {
     "output_type": "execute_result",
     "data": {
      "text/plain": [
       "  uid           timestamp   loc app_id  traffic   date\n",
       "0   0 2016-04-21 08:42:21  8194    342    0.030  04-21\n",
       "1   0 2016-04-21 08:44:12  8194      1    0.008  04-21\n",
       "2   0 2016-04-21 08:44:47  8194    857    0.027  04-21\n",
       "3   0 2016-04-21 08:44:48  8194    857    0.002  04-21\n",
       "4   0 2016-04-21 08:44:49  8194     31    0.009  04-21"
      ],
      "text/html": "<div>\n<style scoped>\n    .dataframe tbody tr th:only-of-type {\n        vertical-align: middle;\n    }\n\n    .dataframe tbody tr th {\n        vertical-align: top;\n    }\n\n    .dataframe thead th {\n        text-align: right;\n    }\n</style>\n<table border=\"1\" class=\"dataframe\">\n  <thead>\n    <tr style=\"text-align: right;\">\n      <th></th>\n      <th>uid</th>\n      <th>timestamp</th>\n      <th>loc</th>\n      <th>app_id</th>\n      <th>traffic</th>\n      <th>date</th>\n    </tr>\n  </thead>\n  <tbody>\n    <tr>\n      <th>0</th>\n      <td>0</td>\n      <td>2016-04-21 08:42:21</td>\n      <td>8194</td>\n      <td>342</td>\n      <td>0.030</td>\n      <td>04-21</td>\n    </tr>\n    <tr>\n      <th>1</th>\n      <td>0</td>\n      <td>2016-04-21 08:44:12</td>\n      <td>8194</td>\n      <td>1</td>\n      <td>0.008</td>\n      <td>04-21</td>\n    </tr>\n    <tr>\n      <th>2</th>\n      <td>0</td>\n      <td>2016-04-21 08:44:47</td>\n      <td>8194</td>\n      <td>857</td>\n      <td>0.027</td>\n      <td>04-21</td>\n    </tr>\n    <tr>\n      <th>3</th>\n      <td>0</td>\n      <td>2016-04-21 08:44:48</td>\n      <td>8194</td>\n      <td>857</td>\n      <td>0.002</td>\n      <td>04-21</td>\n    </tr>\n    <tr>\n      <th>4</th>\n      <td>0</td>\n      <td>2016-04-21 08:44:49</td>\n      <td>8194</td>\n      <td>31</td>\n      <td>0.009</td>\n      <td>04-21</td>\n    </tr>\n  </tbody>\n</table>\n</div>"
     },
     "metadata": {},
     "execution_count": 6
    },
    {
     "output_type": "stream",
     "name": "stdout",
     "text": [
      "time: 1min 28s\n"
     ]
    }
   ],
   "source": [
    "import pandas as pd\n",
    "from datetime import datetime, timedelta\n",
    "import matplotlib.pyplot as plt\n",
    "# pd.options.display.max_columns\n",
    "pd.set_option(\"display.max_colwidth\",200)\n",
    "pd.set_option(\"display.max_columns\",20)\n",
    "pd.set_option('float_format', '{:.3f}'.format)\n",
    "\n",
    "# Load Usage data\n",
    "with open('rm_oscillated_cleaned_data.txt') as f:\n",
    "    lines = f.readlines()#[:100000]\n",
    "    df = []\n",
    "    for line in lines:\n",
    "        data = line.split(\",\")\n",
    "        df.append(data)\n",
    "cleaned_df2 = pd.DataFrame(df, columns=['uid','timestamp', 'loc', 'app_id','traffic'])\n",
    "cleaned_df2['timestamp'] = cleaned_df2['timestamp'].apply(lambda x: datetime.strptime(x, '%Y-%m-%d %H:%M:%S'))\n",
    "cleaned_df2[\"traffic\"] = cleaned_df2['traffic'].astype('float64')\n",
    "cleaned_df2[\"date\"] = cleaned_df2[\"timestamp\"].dt.strftime(\"%m-%d\")\n",
    "cleaned_df2.head()"
   ]
  },
  {
   "cell_type": "code",
   "execution_count": 7,
   "metadata": {},
   "outputs": [
    {
     "output_type": "stream",
     "name": "stdout",
     "text": [
      "--------------------------------------------------\nFirst cleaned Dataset has 4171950 rows\n--------------------------------------------------\nSecond cleaned Dataset has 3970225 rows\n==================================================\ntime: 675 µs\n"
     ]
    }
   ],
   "source": [
    "# print(\"=\"*50)\n",
    "# print(\"Original Dataset has {} rows\".format(usage.shape[0]))\n",
    "print(\"-\"*50)\n",
    "print(\"First cleaned Dataset has {} rows\".format(cleaned_df1.shape[0]))\n",
    "print(\"-\"*50)\n",
    "print(\"Second cleaned Dataset has {} rows\".format(cleaned_df2.shape[0]))\n",
    "print(\"=\"*50)"
   ]
  },
  {
   "source": [
    "# Analysis part \n",
    "## descritive analysis"
   ],
   "cell_type": "markdown",
   "metadata": {}
  },
  {
   "source": [
    "### Orignial Dataset"
   ],
   "cell_type": "markdown",
   "metadata": {}
  },
  {
   "cell_type": "code",
   "execution_count": 8,
   "metadata": {},
   "outputs": [
    {
     "output_type": "execute_result",
     "data": {
      "text/plain": [
       "            count\n",
       "count     871.000\n",
       "mean     4789.839\n",
       "std     38407.519\n",
       "min         4.000\n",
       "25%       647.500\n",
       "50%      1659.000\n",
       "75%      3534.000\n",
       "max   1098748.000"
      ],
      "text/html": "<div>\n<style scoped>\n    .dataframe tbody tr th:only-of-type {\n        vertical-align: middle;\n    }\n\n    .dataframe tbody tr th {\n        vertical-align: top;\n    }\n\n    .dataframe thead th {\n        text-align: right;\n    }\n</style>\n<table border=\"1\" class=\"dataframe\">\n  <thead>\n    <tr style=\"text-align: right;\">\n      <th></th>\n      <th>count</th>\n    </tr>\n  </thead>\n  <tbody>\n    <tr>\n      <th>count</th>\n      <td>871.000</td>\n    </tr>\n    <tr>\n      <th>mean</th>\n      <td>4789.839</td>\n    </tr>\n    <tr>\n      <th>std</th>\n      <td>38407.519</td>\n    </tr>\n    <tr>\n      <th>min</th>\n      <td>4.000</td>\n    </tr>\n    <tr>\n      <th>25%</th>\n      <td>647.500</td>\n    </tr>\n    <tr>\n      <th>50%</th>\n      <td>1659.000</td>\n    </tr>\n    <tr>\n      <th>75%</th>\n      <td>3534.000</td>\n    </tr>\n    <tr>\n      <th>max</th>\n      <td>1098748.000</td>\n    </tr>\n  </tbody>\n</table>\n</div>"
     },
     "metadata": {},
     "execution_count": 8
    },
    {
     "output_type": "stream",
     "name": "stdout",
     "text": [
      "time: 1.11 s\n"
     ]
    }
   ],
   "source": [
    "user_count = usage.groupby([\"uid\"]).size().reset_index()\n",
    "user_count.columns = ['uid','count']\n",
    "user_count.describe()"
   ]
  },
  {
   "cell_type": "code",
   "execution_count": 9,
   "metadata": {},
   "outputs": [
    {
     "output_type": "execute_result",
     "data": {
      "text/plain": [
       "          count\n",
       "count   869.000\n",
       "mean   3273.794\n",
       "std    6321.116\n",
       "min       4.000\n",
       "25%     646.000\n",
       "50%    1657.000\n",
       "75%    3521.000\n",
       "max   90381.000"
      ],
      "text/html": "<div>\n<style scoped>\n    .dataframe tbody tr th:only-of-type {\n        vertical-align: middle;\n    }\n\n    .dataframe tbody tr th {\n        vertical-align: top;\n    }\n\n    .dataframe thead th {\n        text-align: right;\n    }\n</style>\n<table border=\"1\" class=\"dataframe\">\n  <thead>\n    <tr style=\"text-align: right;\">\n      <th></th>\n      <th>count</th>\n    </tr>\n  </thead>\n  <tbody>\n    <tr>\n      <th>count</th>\n      <td>869.000</td>\n    </tr>\n    <tr>\n      <th>mean</th>\n      <td>3273.794</td>\n    </tr>\n    <tr>\n      <th>std</th>\n      <td>6321.116</td>\n    </tr>\n    <tr>\n      <th>min</th>\n      <td>4.000</td>\n    </tr>\n    <tr>\n      <th>25%</th>\n      <td>646.000</td>\n    </tr>\n    <tr>\n      <th>50%</th>\n      <td>1657.000</td>\n    </tr>\n    <tr>\n      <th>75%</th>\n      <td>3521.000</td>\n    </tr>\n    <tr>\n      <th>max</th>\n      <td>90381.000</td>\n    </tr>\n  </tbody>\n</table>\n</div>"
     },
     "metadata": {},
     "execution_count": 9
    },
    {
     "output_type": "stream",
     "name": "stdout",
     "text": [
      "time: 3.52 s\n"
     ]
    }
   ],
   "source": [
    "usage_rm_user = usage[(usage[\"uid\"] != str(942)) & (usage[\"uid\"] != str(772))]\n",
    "usage_rm_user_count = usage_rm_user.groupby([\"uid\"]).size().reset_index()\n",
    "usage_rm_user_count.columns = ['uid','count']\n",
    "usage_rm_user_count.describe()"
   ]
  },
  {
   "source": [
    "### First Cleaned"
   ],
   "cell_type": "markdown",
   "metadata": {}
  },
  {
   "cell_type": "code",
   "execution_count": 10,
   "metadata": {},
   "outputs": [
    {
     "output_type": "execute_result",
     "data": {
      "text/plain": [
       "            count\n",
       "count     871.000\n",
       "mean     4789.839\n",
       "std     38407.519\n",
       "min         4.000\n",
       "25%       647.500\n",
       "50%      1659.000\n",
       "75%      3534.000\n",
       "max   1098748.000"
      ],
      "text/html": "<div>\n<style scoped>\n    .dataframe tbody tr th:only-of-type {\n        vertical-align: middle;\n    }\n\n    .dataframe tbody tr th {\n        vertical-align: top;\n    }\n\n    .dataframe thead th {\n        text-align: right;\n    }\n</style>\n<table border=\"1\" class=\"dataframe\">\n  <thead>\n    <tr style=\"text-align: right;\">\n      <th></th>\n      <th>count</th>\n    </tr>\n  </thead>\n  <tbody>\n    <tr>\n      <th>count</th>\n      <td>871.000</td>\n    </tr>\n    <tr>\n      <th>mean</th>\n      <td>4789.839</td>\n    </tr>\n    <tr>\n      <th>std</th>\n      <td>38407.519</td>\n    </tr>\n    <tr>\n      <th>min</th>\n      <td>4.000</td>\n    </tr>\n    <tr>\n      <th>25%</th>\n      <td>647.500</td>\n    </tr>\n    <tr>\n      <th>50%</th>\n      <td>1659.000</td>\n    </tr>\n    <tr>\n      <th>75%</th>\n      <td>3534.000</td>\n    </tr>\n    <tr>\n      <th>max</th>\n      <td>1098748.000</td>\n    </tr>\n  </tbody>\n</table>\n</div>"
     },
     "metadata": {},
     "execution_count": 10
    },
    {
     "output_type": "stream",
     "name": "stdout",
     "text": [
      "time: 1.12 s\n"
     ]
    }
   ],
   "source": [
    "cleaned_user_count1 = cleaned_df1.groupby([\"uid\"]).size().reset_index()\n",
    "cleaned_user_count1.columns = ['uid','count']\n",
    "cleaned_user_count1.describe()"
   ]
  },
  {
   "cell_type": "code",
   "execution_count": 11,
   "metadata": {},
   "outputs": [
    {
     "output_type": "execute_result",
     "data": {
      "text/plain": [
       "            count\n",
       "count     697.000\n",
       "mean     5696.162\n",
       "std     42888.153\n",
       "min       200.000\n",
       "25%       820.000\n",
       "50%      1975.000\n",
       "75%      4163.000\n",
       "max   1098748.000"
      ],
      "text/html": "<div>\n<style scoped>\n    .dataframe tbody tr th:only-of-type {\n        vertical-align: middle;\n    }\n\n    .dataframe tbody tr th {\n        vertical-align: top;\n    }\n\n    .dataframe thead th {\n        text-align: right;\n    }\n</style>\n<table border=\"1\" class=\"dataframe\">\n  <thead>\n    <tr style=\"text-align: right;\">\n      <th></th>\n      <th>count</th>\n    </tr>\n  </thead>\n  <tbody>\n    <tr>\n      <th>count</th>\n      <td>697.000</td>\n    </tr>\n    <tr>\n      <th>mean</th>\n      <td>5696.162</td>\n    </tr>\n    <tr>\n      <th>std</th>\n      <td>42888.153</td>\n    </tr>\n    <tr>\n      <th>min</th>\n      <td>200.000</td>\n    </tr>\n    <tr>\n      <th>25%</th>\n      <td>820.000</td>\n    </tr>\n    <tr>\n      <th>50%</th>\n      <td>1975.000</td>\n    </tr>\n    <tr>\n      <th>75%</th>\n      <td>4163.000</td>\n    </tr>\n    <tr>\n      <th>max</th>\n      <td>1098748.000</td>\n    </tr>\n  </tbody>\n</table>\n</div>"
     },
     "metadata": {},
     "execution_count": 11
    },
    {
     "output_type": "stream",
     "name": "stdout",
     "text": [
      "time: 1.57 s\n"
     ]
    }
   ],
   "source": [
    "cleaned_user_count2 = cleaned_df2.groupby([\"uid\"]).size().reset_index()\n",
    "cleaned_user_count2.columns = ['uid','count']\n",
    "cleaned_user_count2.describe()"
   ]
  },
  {
   "cell_type": "code",
   "execution_count": 12,
   "metadata": {},
   "outputs": [
    {
     "output_type": "execute_result",
     "data": {
      "text/plain": [
       "          count\n",
       "count   695.000\n",
       "mean   3803.168\n",
       "std    6939.822\n",
       "min     200.000\n",
       "25%     818.000\n",
       "50%    1971.000\n",
       "75%    4150.000\n",
       "max   90381.000"
      ],
      "text/html": "<div>\n<style scoped>\n    .dataframe tbody tr th:only-of-type {\n        vertical-align: middle;\n    }\n\n    .dataframe tbody tr th {\n        vertical-align: top;\n    }\n\n    .dataframe thead th {\n        text-align: right;\n    }\n</style>\n<table border=\"1\" class=\"dataframe\">\n  <thead>\n    <tr style=\"text-align: right;\">\n      <th></th>\n      <th>count</th>\n    </tr>\n  </thead>\n  <tbody>\n    <tr>\n      <th>count</th>\n      <td>695.000</td>\n    </tr>\n    <tr>\n      <th>mean</th>\n      <td>3803.168</td>\n    </tr>\n    <tr>\n      <th>std</th>\n      <td>6939.822</td>\n    </tr>\n    <tr>\n      <th>min</th>\n      <td>200.000</td>\n    </tr>\n    <tr>\n      <th>25%</th>\n      <td>818.000</td>\n    </tr>\n    <tr>\n      <th>50%</th>\n      <td>1971.000</td>\n    </tr>\n    <tr>\n      <th>75%</th>\n      <td>4150.000</td>\n    </tr>\n    <tr>\n      <th>max</th>\n      <td>90381.000</td>\n    </tr>\n  </tbody>\n</table>\n</div>"
     },
     "metadata": {},
     "execution_count": 12
    },
    {
     "output_type": "stream",
     "name": "stdout",
     "text": [
      "time: 2.7 s\n"
     ]
    }
   ],
   "source": [
    "cleaned_df2_rm = cleaned_df2[(cleaned_df2[\"uid\"] != str(942)) & (cleaned_df2[\"uid\"] != str(772))]\n",
    "cleaned_user_count2_rm = cleaned_df2_rm.groupby([\"uid\"]).size().reset_index()\n",
    "cleaned_user_count2_rm.columns = ['uid','count']\n",
    "cleaned_user_count2_rm.describe()"
   ]
  },
  {
   "cell_type": "code",
   "execution_count": 13,
   "metadata": {},
   "outputs": [
    {
     "output_type": "stream",
     "name": "stdout",
     "text": [
      "time: 309 ms\n"
     ]
    }
   ],
   "source": [
    "loc_count_orignal = usage.groupby([\"loc\"]).size().reset_index()\n",
    "loc_count_orignal.columns = ['loc','count']\n",
    "loc_count_orignal.to_csv('original_loc_count.csv')"
   ]
  },
  {
   "cell_type": "code",
   "execution_count": 14,
   "metadata": {},
   "outputs": [
    {
     "output_type": "stream",
     "name": "stdout",
     "text": [
      "time: 852 ms\n"
     ]
    }
   ],
   "source": [
    "loc_count2 = cleaned_df2.groupby([\"loc\"]).size().reset_index()\n",
    "loc_count2.columns = ['loc','count']\n",
    "loc_count2.to_csv('cleaned_loc_count.csv')"
   ]
  },
  {
   "cell_type": "code",
   "execution_count": 15,
   "metadata": {},
   "outputs": [
    {
     "output_type": "execute_result",
     "data": {
      "text/plain": [
       "count    6739.000\n",
       "mean      619.076\n",
       "std      1245.686\n",
       "min         1.000\n",
       "25%        48.000\n",
       "50%       211.000\n",
       "75%       636.000\n",
       "max     24386.000\n",
       "Name: count, dtype: float64"
      ]
     },
     "metadata": {},
     "execution_count": 15
    },
    {
     "output_type": "stream",
     "name": "stdout",
     "text": [
      "time: 25.2 ms\n"
     ]
    }
   ],
   "source": [
    "loc_count_orignal[\"count\"].describe()"
   ]
  },
  {
   "cell_type": "code",
   "execution_count": 16,
   "metadata": {},
   "outputs": [
    {
     "output_type": "execute_result",
     "data": {
      "text/plain": [
       "count     6022.000\n",
       "mean       659.287\n",
       "std       5110.192\n",
       "min          1.000\n",
       "25%         34.000\n",
       "50%        141.000\n",
       "75%        426.000\n",
       "max     186531.000\n",
       "Name: count, dtype: float64"
      ]
     },
     "metadata": {},
     "execution_count": 16
    },
    {
     "output_type": "stream",
     "name": "stdout",
     "text": [
      "time: 64.5 ms\n"
     ]
    }
   ],
   "source": [
    "loc_count2[\"count\"].describe()"
   ]
  },
  {
   "cell_type": "code",
   "execution_count": 17,
   "metadata": {},
   "outputs": [
    {
     "output_type": "stream",
     "name": "stdout",
     "text": [
      "Original dataset: There are 737 base station that has less than 10 total counts \nCleaned dataset: There are 737 base station that has less than 10 total counts \ntime: 7.69 ms\n"
     ]
    }
   ],
   "source": [
    "required_count = 10\n",
    "\n",
    "print(\"Original dataset: There are {} base station that has less than {} total counts \".format((loc_count_orignal[loc_count_orignal[\"count\"] < required_count].shape[0]), required_count))\n",
    "print(\"Cleaned dataset: There are {} base station that has less than {} total counts \".format((loc_count2[loc_count2[\"count\"] < required_count].shape[0]), required_count))\n"
   ]
  },
  {
   "source": [
    "# Unique base station"
   ],
   "cell_type": "markdown",
   "metadata": {}
  },
  {
   "cell_type": "code",
   "execution_count": 18,
   "metadata": {},
   "outputs": [
    {
     "output_type": "stream",
     "name": "stdout",
     "text": [
      "==================================================\n",
      "Original Dataset has 6739 unique base station\n",
      "--------------------------------------------------\n",
      "First cleaned dataset has 6397 unique base station\n",
      "--------------------------------------------------\n",
      "Second cleaned dataset has 6022 unique base station\n",
      "==================================================\n",
      "time: 10.9 s\n"
     ]
    }
   ],
   "source": [
    "print(\"=\"*50)\n",
    "print(\"Original Dataset has {} unique base station\".format(len(np.unique(usage[\"loc\"]))))\n",
    "print(\"-\"*50)\n",
    "print(\"First cleaned dataset has {} unique base station\".format(len(np.unique(cleaned_df1[\"loc\"]))))\n",
    "print(\"-\"*50)\n",
    "print(\"Second cleaned dataset has {} unique base station\".format(len(np.unique(cleaned_df2[\"loc\"]))))\n",
    "print(\"=\"*50)"
   ]
  },
  {
   "source": [
    "# Show different rows"
   ],
   "cell_type": "markdown",
   "metadata": {}
  },
  {
   "cell_type": "code",
   "execution_count": 29,
   "metadata": {},
   "outputs": [
    {
     "output_type": "stream",
     "name": "stdout",
     "text": [
      "time: 400 µs\n"
     ]
    }
   ],
   "source": [
    "# df_diff = pd.concat([cleaned_df1,cleaned_df2]).drop_duplicates(keep=False)\n",
    "# df_diff"
   ]
  },
  {
   "source": [
    "# Index 11150-11162"
   ],
   "cell_type": "markdown",
   "metadata": {}
  },
  {
   "cell_type": "code",
   "execution_count": 25,
   "metadata": {},
   "outputs": [
    {
     "output_type": "execute_result",
     "data": {
      "text/plain": [
       "       uid           timestamp   loc app_id  traffic   date\n",
       "11150  102 2016-04-21 16:59:02  5025   1285    0.001  04-21\n",
       "11151  102 2016-04-21 17:02:51  5025    260    0.001  04-21\n",
       "11152  102 2016-04-21 17:04:21  5025     33    0.002  04-21\n",
       "11153  102 2016-04-21 17:04:23  5025     93    0.002  04-21\n",
       "11154  102 2016-04-21 17:04:29  5025     93    0.001  04-21\n",
       "11155  102 2016-04-21 17:05:28  5045     33    0.001  04-21\n",
       "11156  102 2016-04-21 17:05:29  5025     33    0.002  04-21\n",
       "11157  102 2016-04-21 17:05:29  5045     33    0.001  04-21\n",
       "11158  102 2016-04-21 17:05:30  5045     33    0.002  04-21\n",
       "11159  102 2016-04-21 17:05:54  5045     33    0.038  04-21\n",
       "11160  102 2016-04-22 07:29:35  6325    388    0.002  04-22\n",
       "11161  102 2016-04-22 07:29:37  6325    226    0.011  04-22\n",
       "11162  102 2016-04-22 07:29:38  6325    226    0.047  04-22"
      ],
      "text/html": "<div>\n<style scoped>\n    .dataframe tbody tr th:only-of-type {\n        vertical-align: middle;\n    }\n\n    .dataframe tbody tr th {\n        vertical-align: top;\n    }\n\n    .dataframe thead th {\n        text-align: right;\n    }\n</style>\n<table border=\"1\" class=\"dataframe\">\n  <thead>\n    <tr style=\"text-align: right;\">\n      <th></th>\n      <th>uid</th>\n      <th>timestamp</th>\n      <th>loc</th>\n      <th>app_id</th>\n      <th>traffic</th>\n      <th>date</th>\n    </tr>\n  </thead>\n  <tbody>\n    <tr>\n      <th>11150</th>\n      <td>102</td>\n      <td>2016-04-21 16:59:02</td>\n      <td>5025</td>\n      <td>1285</td>\n      <td>0.001</td>\n      <td>04-21</td>\n    </tr>\n    <tr>\n      <th>11151</th>\n      <td>102</td>\n      <td>2016-04-21 17:02:51</td>\n      <td>5025</td>\n      <td>260</td>\n      <td>0.001</td>\n      <td>04-21</td>\n    </tr>\n    <tr>\n      <th>11152</th>\n      <td>102</td>\n      <td>2016-04-21 17:04:21</td>\n      <td>5025</td>\n      <td>33</td>\n      <td>0.002</td>\n      <td>04-21</td>\n    </tr>\n    <tr>\n      <th>11153</th>\n      <td>102</td>\n      <td>2016-04-21 17:04:23</td>\n      <td>5025</td>\n      <td>93</td>\n      <td>0.002</td>\n      <td>04-21</td>\n    </tr>\n    <tr>\n      <th>11154</th>\n      <td>102</td>\n      <td>2016-04-21 17:04:29</td>\n      <td>5025</td>\n      <td>93</td>\n      <td>0.001</td>\n      <td>04-21</td>\n    </tr>\n    <tr>\n      <th>11155</th>\n      <td>102</td>\n      <td>2016-04-21 17:05:28</td>\n      <td>5045</td>\n      <td>33</td>\n      <td>0.001</td>\n      <td>04-21</td>\n    </tr>\n    <tr>\n      <th>11156</th>\n      <td>102</td>\n      <td>2016-04-21 17:05:29</td>\n      <td>5025</td>\n      <td>33</td>\n      <td>0.002</td>\n      <td>04-21</td>\n    </tr>\n    <tr>\n      <th>11157</th>\n      <td>102</td>\n      <td>2016-04-21 17:05:29</td>\n      <td>5045</td>\n      <td>33</td>\n      <td>0.001</td>\n      <td>04-21</td>\n    </tr>\n    <tr>\n      <th>11158</th>\n      <td>102</td>\n      <td>2016-04-21 17:05:30</td>\n      <td>5045</td>\n      <td>33</td>\n      <td>0.002</td>\n      <td>04-21</td>\n    </tr>\n    <tr>\n      <th>11159</th>\n      <td>102</td>\n      <td>2016-04-21 17:05:54</td>\n      <td>5045</td>\n      <td>33</td>\n      <td>0.038</td>\n      <td>04-21</td>\n    </tr>\n    <tr>\n      <th>11160</th>\n      <td>102</td>\n      <td>2016-04-22 07:29:35</td>\n      <td>6325</td>\n      <td>388</td>\n      <td>0.002</td>\n      <td>04-22</td>\n    </tr>\n    <tr>\n      <th>11161</th>\n      <td>102</td>\n      <td>2016-04-22 07:29:37</td>\n      <td>6325</td>\n      <td>226</td>\n      <td>0.011</td>\n      <td>04-22</td>\n    </tr>\n    <tr>\n      <th>11162</th>\n      <td>102</td>\n      <td>2016-04-22 07:29:38</td>\n      <td>6325</td>\n      <td>226</td>\n      <td>0.047</td>\n      <td>04-22</td>\n    </tr>\n  </tbody>\n</table>\n</div>"
     },
     "metadata": {},
     "execution_count": 25
    },
    {
     "output_type": "stream",
     "name": "stdout",
     "text": [
      "time: 43.1 ms\n"
     ]
    }
   ],
   "source": [
    "# cleaned_df1.loc[11150:11162,:]"
   ]
  },
  {
   "cell_type": "code",
   "execution_count": 26,
   "metadata": {},
   "outputs": [
    {
     "output_type": "execute_result",
     "data": {
      "text/plain": [
       "       uid           timestamp   loc app_id  traffic   date\n",
       "11150  103 2016-04-21 19:33:59  4471     65    0.001  04-21\n",
       "11151  103 2016-04-21 19:34:05  3983     65    0.002  04-21\n",
       "11152  103 2016-04-21 19:34:15  3983    136    0.006  04-21\n",
       "11153  103 2016-04-21 19:34:17  3983    136    0.002  04-21\n",
       "11154  103 2016-04-21 19:34:17  4471    136    0.003  04-21\n",
       "11155  103 2016-04-21 19:34:18  3983    136    0.002  04-21\n",
       "11156  103 2016-04-21 19:34:19  3983    136    0.009  04-21\n",
       "11157  103 2016-04-21 19:34:20  3983    136    0.008  04-21\n",
       "11158  103 2016-04-21 19:34:20  3983    322    0.002  04-21\n",
       "11159  103 2016-04-21 19:34:20  4471    322    0.001  04-21\n",
       "11160  103 2016-04-21 19:34:21  3983    136    0.146  04-21\n",
       "11161  103 2016-04-21 19:34:21  3983    322    0.006  04-21\n",
       "11162  103 2016-04-21 19:34:21  4471    322    0.001  04-21"
      ],
      "text/html": "<div>\n<style scoped>\n    .dataframe tbody tr th:only-of-type {\n        vertical-align: middle;\n    }\n\n    .dataframe tbody tr th {\n        vertical-align: top;\n    }\n\n    .dataframe thead th {\n        text-align: right;\n    }\n</style>\n<table border=\"1\" class=\"dataframe\">\n  <thead>\n    <tr style=\"text-align: right;\">\n      <th></th>\n      <th>uid</th>\n      <th>timestamp</th>\n      <th>loc</th>\n      <th>app_id</th>\n      <th>traffic</th>\n      <th>date</th>\n    </tr>\n  </thead>\n  <tbody>\n    <tr>\n      <th>11150</th>\n      <td>103</td>\n      <td>2016-04-21 19:33:59</td>\n      <td>4471</td>\n      <td>65</td>\n      <td>0.001</td>\n      <td>04-21</td>\n    </tr>\n    <tr>\n      <th>11151</th>\n      <td>103</td>\n      <td>2016-04-21 19:34:05</td>\n      <td>3983</td>\n      <td>65</td>\n      <td>0.002</td>\n      <td>04-21</td>\n    </tr>\n    <tr>\n      <th>11152</th>\n      <td>103</td>\n      <td>2016-04-21 19:34:15</td>\n      <td>3983</td>\n      <td>136</td>\n      <td>0.006</td>\n      <td>04-21</td>\n    </tr>\n    <tr>\n      <th>11153</th>\n      <td>103</td>\n      <td>2016-04-21 19:34:17</td>\n      <td>3983</td>\n      <td>136</td>\n      <td>0.002</td>\n      <td>04-21</td>\n    </tr>\n    <tr>\n      <th>11154</th>\n      <td>103</td>\n      <td>2016-04-21 19:34:17</td>\n      <td>4471</td>\n      <td>136</td>\n      <td>0.003</td>\n      <td>04-21</td>\n    </tr>\n    <tr>\n      <th>11155</th>\n      <td>103</td>\n      <td>2016-04-21 19:34:18</td>\n      <td>3983</td>\n      <td>136</td>\n      <td>0.002</td>\n      <td>04-21</td>\n    </tr>\n    <tr>\n      <th>11156</th>\n      <td>103</td>\n      <td>2016-04-21 19:34:19</td>\n      <td>3983</td>\n      <td>136</td>\n      <td>0.009</td>\n      <td>04-21</td>\n    </tr>\n    <tr>\n      <th>11157</th>\n      <td>103</td>\n      <td>2016-04-21 19:34:20</td>\n      <td>3983</td>\n      <td>136</td>\n      <td>0.008</td>\n      <td>04-21</td>\n    </tr>\n    <tr>\n      <th>11158</th>\n      <td>103</td>\n      <td>2016-04-21 19:34:20</td>\n      <td>3983</td>\n      <td>322</td>\n      <td>0.002</td>\n      <td>04-21</td>\n    </tr>\n    <tr>\n      <th>11159</th>\n      <td>103</td>\n      <td>2016-04-21 19:34:20</td>\n      <td>4471</td>\n      <td>322</td>\n      <td>0.001</td>\n      <td>04-21</td>\n    </tr>\n    <tr>\n      <th>11160</th>\n      <td>103</td>\n      <td>2016-04-21 19:34:21</td>\n      <td>3983</td>\n      <td>136</td>\n      <td>0.146</td>\n      <td>04-21</td>\n    </tr>\n    <tr>\n      <th>11161</th>\n      <td>103</td>\n      <td>2016-04-21 19:34:21</td>\n      <td>3983</td>\n      <td>322</td>\n      <td>0.006</td>\n      <td>04-21</td>\n    </tr>\n    <tr>\n      <th>11162</th>\n      <td>103</td>\n      <td>2016-04-21 19:34:21</td>\n      <td>4471</td>\n      <td>322</td>\n      <td>0.001</td>\n      <td>04-21</td>\n    </tr>\n  </tbody>\n</table>\n</div>"
     },
     "metadata": {},
     "execution_count": 26
    },
    {
     "output_type": "stream",
     "name": "stdout",
     "text": [
      "time: 31.9 ms\n"
     ]
    }
   ],
   "source": [
    "# cleaned_df2.loc[11150:11162,:]"
   ]
  },
  {
   "source": [
    "# Index 105992-106015"
   ],
   "cell_type": "markdown",
   "metadata": {}
  },
  {
   "cell_type": "code",
   "execution_count": 27,
   "metadata": {},
   "outputs": [
    {
     "output_type": "execute_result",
     "data": {
      "text/plain": [
       "        uid           timestamp   loc app_id  traffic   date\n",
       "105992  152 2016-04-20 07:52:35   924      1    0.004  04-20\n",
       "105993  152 2016-04-20 07:57:02   924     47    0.001  04-20\n",
       "105994  152 2016-04-20 07:57:03   924     47    0.003  04-20\n",
       "105995  152 2016-04-20 07:59:33   924    315    0.001  04-20\n",
       "105996  152 2016-04-20 08:06:11  2370     10    0.001  04-20\n",
       "105997  152 2016-04-20 08:06:31  2370      1    0.001  04-20\n",
       "105998  152 2016-04-20 08:07:17  2370     42    0.005  04-20\n",
       "105999  152 2016-04-20 08:08:51  2370    315    0.001  04-20\n",
       "106000  152 2016-04-20 08:08:58  2370     93    0.000  04-20\n",
       "106001  152 2016-04-20 08:09:00  2370      1    0.000  04-20\n",
       "106002  152 2016-04-20 08:09:03  2370    126    0.001  04-20\n",
       "106003  152 2016-04-20 08:09:09  2370    315    0.001  04-20\n",
       "106004  152 2016-04-20 08:09:26  2370      1    0.002  04-20\n",
       "106005  152 2016-04-20 08:19:58  1076     93    0.002  04-20\n",
       "106006  152 2016-04-20 08:24:36  2960   1303    0.003  04-20\n",
       "106007  152 2016-04-20 08:24:39  2960     31    0.002  04-20\n",
       "106008  152 2016-04-20 08:24:44  2960     31    0.029  04-20\n",
       "106009  152 2016-04-20 14:14:15  2962   1420    0.002  04-20\n",
       "106010  152 2016-04-20 14:14:16  2962   1420    0.002  04-20\n",
       "106011  152 2016-04-20 14:14:17  2962   1420    0.002  04-20\n",
       "106012  152 2016-04-20 14:14:19  2962   1420    0.002  04-20\n",
       "106013  152 2016-04-20 14:14:20  2962   1420    0.002  04-20\n",
       "106014  152 2016-04-20 14:14:41  2962   1420    0.002  04-20\n",
       "106015  152 2016-04-20 14:14:46  2962   1420    0.002  04-20"
      ],
      "text/html": "<div>\n<style scoped>\n    .dataframe tbody tr th:only-of-type {\n        vertical-align: middle;\n    }\n\n    .dataframe tbody tr th {\n        vertical-align: top;\n    }\n\n    .dataframe thead th {\n        text-align: right;\n    }\n</style>\n<table border=\"1\" class=\"dataframe\">\n  <thead>\n    <tr style=\"text-align: right;\">\n      <th></th>\n      <th>uid</th>\n      <th>timestamp</th>\n      <th>loc</th>\n      <th>app_id</th>\n      <th>traffic</th>\n      <th>date</th>\n    </tr>\n  </thead>\n  <tbody>\n    <tr>\n      <th>105992</th>\n      <td>152</td>\n      <td>2016-04-20 07:52:35</td>\n      <td>924</td>\n      <td>1</td>\n      <td>0.004</td>\n      <td>04-20</td>\n    </tr>\n    <tr>\n      <th>105993</th>\n      <td>152</td>\n      <td>2016-04-20 07:57:02</td>\n      <td>924</td>\n      <td>47</td>\n      <td>0.001</td>\n      <td>04-20</td>\n    </tr>\n    <tr>\n      <th>105994</th>\n      <td>152</td>\n      <td>2016-04-20 07:57:03</td>\n      <td>924</td>\n      <td>47</td>\n      <td>0.003</td>\n      <td>04-20</td>\n    </tr>\n    <tr>\n      <th>105995</th>\n      <td>152</td>\n      <td>2016-04-20 07:59:33</td>\n      <td>924</td>\n      <td>315</td>\n      <td>0.001</td>\n      <td>04-20</td>\n    </tr>\n    <tr>\n      <th>105996</th>\n      <td>152</td>\n      <td>2016-04-20 08:06:11</td>\n      <td>2370</td>\n      <td>10</td>\n      <td>0.001</td>\n      <td>04-20</td>\n    </tr>\n    <tr>\n      <th>105997</th>\n      <td>152</td>\n      <td>2016-04-20 08:06:31</td>\n      <td>2370</td>\n      <td>1</td>\n      <td>0.001</td>\n      <td>04-20</td>\n    </tr>\n    <tr>\n      <th>105998</th>\n      <td>152</td>\n      <td>2016-04-20 08:07:17</td>\n      <td>2370</td>\n      <td>42</td>\n      <td>0.005</td>\n      <td>04-20</td>\n    </tr>\n    <tr>\n      <th>105999</th>\n      <td>152</td>\n      <td>2016-04-20 08:08:51</td>\n      <td>2370</td>\n      <td>315</td>\n      <td>0.001</td>\n      <td>04-20</td>\n    </tr>\n    <tr>\n      <th>106000</th>\n      <td>152</td>\n      <td>2016-04-20 08:08:58</td>\n      <td>2370</td>\n      <td>93</td>\n      <td>0.000</td>\n      <td>04-20</td>\n    </tr>\n    <tr>\n      <th>106001</th>\n      <td>152</td>\n      <td>2016-04-20 08:09:00</td>\n      <td>2370</td>\n      <td>1</td>\n      <td>0.000</td>\n      <td>04-20</td>\n    </tr>\n    <tr>\n      <th>106002</th>\n      <td>152</td>\n      <td>2016-04-20 08:09:03</td>\n      <td>2370</td>\n      <td>126</td>\n      <td>0.001</td>\n      <td>04-20</td>\n    </tr>\n    <tr>\n      <th>106003</th>\n      <td>152</td>\n      <td>2016-04-20 08:09:09</td>\n      <td>2370</td>\n      <td>315</td>\n      <td>0.001</td>\n      <td>04-20</td>\n    </tr>\n    <tr>\n      <th>106004</th>\n      <td>152</td>\n      <td>2016-04-20 08:09:26</td>\n      <td>2370</td>\n      <td>1</td>\n      <td>0.002</td>\n      <td>04-20</td>\n    </tr>\n    <tr>\n      <th>106005</th>\n      <td>152</td>\n      <td>2016-04-20 08:19:58</td>\n      <td>1076</td>\n      <td>93</td>\n      <td>0.002</td>\n      <td>04-20</td>\n    </tr>\n    <tr>\n      <th>106006</th>\n      <td>152</td>\n      <td>2016-04-20 08:24:36</td>\n      <td>2960</td>\n      <td>1303</td>\n      <td>0.003</td>\n      <td>04-20</td>\n    </tr>\n    <tr>\n      <th>106007</th>\n      <td>152</td>\n      <td>2016-04-20 08:24:39</td>\n      <td>2960</td>\n      <td>31</td>\n      <td>0.002</td>\n      <td>04-20</td>\n    </tr>\n    <tr>\n      <th>106008</th>\n      <td>152</td>\n      <td>2016-04-20 08:24:44</td>\n      <td>2960</td>\n      <td>31</td>\n      <td>0.029</td>\n      <td>04-20</td>\n    </tr>\n    <tr>\n      <th>106009</th>\n      <td>152</td>\n      <td>2016-04-20 14:14:15</td>\n      <td>2962</td>\n      <td>1420</td>\n      <td>0.002</td>\n      <td>04-20</td>\n    </tr>\n    <tr>\n      <th>106010</th>\n      <td>152</td>\n      <td>2016-04-20 14:14:16</td>\n      <td>2962</td>\n      <td>1420</td>\n      <td>0.002</td>\n      <td>04-20</td>\n    </tr>\n    <tr>\n      <th>106011</th>\n      <td>152</td>\n      <td>2016-04-20 14:14:17</td>\n      <td>2962</td>\n      <td>1420</td>\n      <td>0.002</td>\n      <td>04-20</td>\n    </tr>\n    <tr>\n      <th>106012</th>\n      <td>152</td>\n      <td>2016-04-20 14:14:19</td>\n      <td>2962</td>\n      <td>1420</td>\n      <td>0.002</td>\n      <td>04-20</td>\n    </tr>\n    <tr>\n      <th>106013</th>\n      <td>152</td>\n      <td>2016-04-20 14:14:20</td>\n      <td>2962</td>\n      <td>1420</td>\n      <td>0.002</td>\n      <td>04-20</td>\n    </tr>\n    <tr>\n      <th>106014</th>\n      <td>152</td>\n      <td>2016-04-20 14:14:41</td>\n      <td>2962</td>\n      <td>1420</td>\n      <td>0.002</td>\n      <td>04-20</td>\n    </tr>\n    <tr>\n      <th>106015</th>\n      <td>152</td>\n      <td>2016-04-20 14:14:46</td>\n      <td>2962</td>\n      <td>1420</td>\n      <td>0.002</td>\n      <td>04-20</td>\n    </tr>\n  </tbody>\n</table>\n</div>"
     },
     "metadata": {},
     "execution_count": 27
    },
    {
     "output_type": "stream",
     "name": "stdout",
     "text": [
      "time: 37.6 ms\n"
     ]
    }
   ],
   "source": [
    "# cleaned_df1.loc[105992:106015,:]"
   ]
  },
  {
   "cell_type": "code",
   "execution_count": 28,
   "metadata": {},
   "outputs": [
    {
     "output_type": "execute_result",
     "data": {
      "text/plain": [
       "        uid           timestamp   loc app_id  traffic   date\n",
       "105992  171 2016-04-22 13:09:15  3483   1420    0.000  04-22\n",
       "105993  171 2016-04-22 13:09:21  4329   1420    0.012  04-22\n",
       "105994  171 2016-04-22 13:09:23  4329   1420    0.004  04-22\n",
       "105995  171 2016-04-22 13:09:24  4329   1420    0.006  04-22\n",
       "105996  171 2016-04-22 13:09:30  4329   1420    0.001  04-22\n",
       "105997  171 2016-04-22 13:09:34  4329   1420    0.006  04-22\n",
       "105998  171 2016-04-22 13:09:37  4329   1420    0.010  04-22\n",
       "105999  171 2016-04-22 13:09:49  3483   1420    0.137  04-22\n",
       "106000  171 2016-04-22 13:09:50  3483   1420    0.000  04-22\n",
       "106001  171 2016-04-22 13:09:50  4329   1420    0.006  04-22\n",
       "106002  171 2016-04-22 13:09:53  4329   1420    0.000  04-22\n",
       "106003  171 2016-04-22 13:10:05  4329   1420    0.000  04-22\n",
       "106004  171 2016-04-22 13:10:10  4329   1420    0.102  04-22\n",
       "106005  171 2016-04-22 13:10:11  3483   1420    0.002  04-22\n",
       "106006  171 2016-04-22 13:10:11  4329   1420    0.145  04-22\n",
       "106007  171 2016-04-22 13:10:12  3483   1420    0.000  04-22\n",
       "106008  171 2016-04-22 13:10:13  4329   1420    0.003  04-22\n",
       "106009  171 2016-04-22 13:10:16  4329   1420    0.003  04-22\n",
       "106010  171 2016-04-22 13:10:17  4329   1420    0.002  04-22\n",
       "106011  171 2016-04-22 13:10:20  4329   1420    0.002  04-22\n",
       "106012  171 2016-04-22 13:10:38  3483   1420    0.007  04-22\n",
       "106013  171 2016-04-22 13:10:38  4329   1420    0.002  04-22\n",
       "106014  171 2016-04-22 13:10:40  4329   1420    0.104  04-22\n",
       "106015  171 2016-04-22 13:10:41  3483   1420    0.075  04-22"
      ],
      "text/html": "<div>\n<style scoped>\n    .dataframe tbody tr th:only-of-type {\n        vertical-align: middle;\n    }\n\n    .dataframe tbody tr th {\n        vertical-align: top;\n    }\n\n    .dataframe thead th {\n        text-align: right;\n    }\n</style>\n<table border=\"1\" class=\"dataframe\">\n  <thead>\n    <tr style=\"text-align: right;\">\n      <th></th>\n      <th>uid</th>\n      <th>timestamp</th>\n      <th>loc</th>\n      <th>app_id</th>\n      <th>traffic</th>\n      <th>date</th>\n    </tr>\n  </thead>\n  <tbody>\n    <tr>\n      <th>105992</th>\n      <td>171</td>\n      <td>2016-04-22 13:09:15</td>\n      <td>3483</td>\n      <td>1420</td>\n      <td>0.000</td>\n      <td>04-22</td>\n    </tr>\n    <tr>\n      <th>105993</th>\n      <td>171</td>\n      <td>2016-04-22 13:09:21</td>\n      <td>4329</td>\n      <td>1420</td>\n      <td>0.012</td>\n      <td>04-22</td>\n    </tr>\n    <tr>\n      <th>105994</th>\n      <td>171</td>\n      <td>2016-04-22 13:09:23</td>\n      <td>4329</td>\n      <td>1420</td>\n      <td>0.004</td>\n      <td>04-22</td>\n    </tr>\n    <tr>\n      <th>105995</th>\n      <td>171</td>\n      <td>2016-04-22 13:09:24</td>\n      <td>4329</td>\n      <td>1420</td>\n      <td>0.006</td>\n      <td>04-22</td>\n    </tr>\n    <tr>\n      <th>105996</th>\n      <td>171</td>\n      <td>2016-04-22 13:09:30</td>\n      <td>4329</td>\n      <td>1420</td>\n      <td>0.001</td>\n      <td>04-22</td>\n    </tr>\n    <tr>\n      <th>105997</th>\n      <td>171</td>\n      <td>2016-04-22 13:09:34</td>\n      <td>4329</td>\n      <td>1420</td>\n      <td>0.006</td>\n      <td>04-22</td>\n    </tr>\n    <tr>\n      <th>105998</th>\n      <td>171</td>\n      <td>2016-04-22 13:09:37</td>\n      <td>4329</td>\n      <td>1420</td>\n      <td>0.010</td>\n      <td>04-22</td>\n    </tr>\n    <tr>\n      <th>105999</th>\n      <td>171</td>\n      <td>2016-04-22 13:09:49</td>\n      <td>3483</td>\n      <td>1420</td>\n      <td>0.137</td>\n      <td>04-22</td>\n    </tr>\n    <tr>\n      <th>106000</th>\n      <td>171</td>\n      <td>2016-04-22 13:09:50</td>\n      <td>3483</td>\n      <td>1420</td>\n      <td>0.000</td>\n      <td>04-22</td>\n    </tr>\n    <tr>\n      <th>106001</th>\n      <td>171</td>\n      <td>2016-04-22 13:09:50</td>\n      <td>4329</td>\n      <td>1420</td>\n      <td>0.006</td>\n      <td>04-22</td>\n    </tr>\n    <tr>\n      <th>106002</th>\n      <td>171</td>\n      <td>2016-04-22 13:09:53</td>\n      <td>4329</td>\n      <td>1420</td>\n      <td>0.000</td>\n      <td>04-22</td>\n    </tr>\n    <tr>\n      <th>106003</th>\n      <td>171</td>\n      <td>2016-04-22 13:10:05</td>\n      <td>4329</td>\n      <td>1420</td>\n      <td>0.000</td>\n      <td>04-22</td>\n    </tr>\n    <tr>\n      <th>106004</th>\n      <td>171</td>\n      <td>2016-04-22 13:10:10</td>\n      <td>4329</td>\n      <td>1420</td>\n      <td>0.102</td>\n      <td>04-22</td>\n    </tr>\n    <tr>\n      <th>106005</th>\n      <td>171</td>\n      <td>2016-04-22 13:10:11</td>\n      <td>3483</td>\n      <td>1420</td>\n      <td>0.002</td>\n      <td>04-22</td>\n    </tr>\n    <tr>\n      <th>106006</th>\n      <td>171</td>\n      <td>2016-04-22 13:10:11</td>\n      <td>4329</td>\n      <td>1420</td>\n      <td>0.145</td>\n      <td>04-22</td>\n    </tr>\n    <tr>\n      <th>106007</th>\n      <td>171</td>\n      <td>2016-04-22 13:10:12</td>\n      <td>3483</td>\n      <td>1420</td>\n      <td>0.000</td>\n      <td>04-22</td>\n    </tr>\n    <tr>\n      <th>106008</th>\n      <td>171</td>\n      <td>2016-04-22 13:10:13</td>\n      <td>4329</td>\n      <td>1420</td>\n      <td>0.003</td>\n      <td>04-22</td>\n    </tr>\n    <tr>\n      <th>106009</th>\n      <td>171</td>\n      <td>2016-04-22 13:10:16</td>\n      <td>4329</td>\n      <td>1420</td>\n      <td>0.003</td>\n      <td>04-22</td>\n    </tr>\n    <tr>\n      <th>106010</th>\n      <td>171</td>\n      <td>2016-04-22 13:10:17</td>\n      <td>4329</td>\n      <td>1420</td>\n      <td>0.002</td>\n      <td>04-22</td>\n    </tr>\n    <tr>\n      <th>106011</th>\n      <td>171</td>\n      <td>2016-04-22 13:10:20</td>\n      <td>4329</td>\n      <td>1420</td>\n      <td>0.002</td>\n      <td>04-22</td>\n    </tr>\n    <tr>\n      <th>106012</th>\n      <td>171</td>\n      <td>2016-04-22 13:10:38</td>\n      <td>3483</td>\n      <td>1420</td>\n      <td>0.007</td>\n      <td>04-22</td>\n    </tr>\n    <tr>\n      <th>106013</th>\n      <td>171</td>\n      <td>2016-04-22 13:10:38</td>\n      <td>4329</td>\n      <td>1420</td>\n      <td>0.002</td>\n      <td>04-22</td>\n    </tr>\n    <tr>\n      <th>106014</th>\n      <td>171</td>\n      <td>2016-04-22 13:10:40</td>\n      <td>4329</td>\n      <td>1420</td>\n      <td>0.104</td>\n      <td>04-22</td>\n    </tr>\n    <tr>\n      <th>106015</th>\n      <td>171</td>\n      <td>2016-04-22 13:10:41</td>\n      <td>3483</td>\n      <td>1420</td>\n      <td>0.075</td>\n      <td>04-22</td>\n    </tr>\n  </tbody>\n</table>\n</div>"
     },
     "metadata": {},
     "execution_count": 28
    },
    {
     "output_type": "stream",
     "name": "stdout",
     "text": [
      "time: 24.7 ms\n"
     ]
    }
   ],
   "source": [
    "# cleaned_df2.loc[105992:106015,:]"
   ]
  },
  {
   "source": [
    "#  Analysis on number to clean"
   ],
   "cell_type": "markdown",
   "metadata": {}
  },
  {
   "cell_type": "code",
   "execution_count": 24,
   "metadata": {},
   "outputs": [
    {
     "output_type": "stream",
     "name": "stdout",
     "text": [
      "====================================================================================================\nCurrent condition: remove user that has less than 10 records per day\n====================================================================================================\nThere are 200 users that does not meet the requirement\n----------------------------------------------------------------------------------------------------\nThere are 140 users that have less than 10 records for exact 1 day\n----------------------------------------------------------------------------------------------------\nThere are 60 users that have less than 10 records for more than 1 day\n----------------------------------------------------------------------------------------------------\nUnder current condition, 1263 rows will be removed, 0.00030% of the entire dataset \n====================================================================================================\ntime: 1.64 s\n"
     ]
    }
   ],
   "source": [
    "# group uid and date, purpose is to see the number of request that a user made for each day\n",
    "user_usage_perday = usage.groupby([\"uid\", \"date\"]).size().reset_index()\n",
    "# rename columns for easy slicing\n",
    "user_usage_perday.columns = [\"uid\", \"date\", \"count\"]\n",
    "# number of users that does not have X counts per day\n",
    "# change this\n",
    "required_count = 10\n",
    "\n",
    "# slice dataset to only remain those rows that has less than 20 count\n",
    "df_less10day = user_usage_perday[user_usage_perday[\"count\"] < required_count]\n",
    "# group dataset with uid to get the count of the occurance of the uid, so we can determine which users have just 1 day or more\n",
    "uid_less10day = df_less10day.groupby([\"uid\"]).size().reset_index()\n",
    "# rename columns for easy slicing\n",
    "uid_less10day.columns = [\"uid\", \"count\"]\n",
    "print(\"=\"*100)\n",
    "print(\"Current condition: remove user that has less than {} records per day\".format(required_count))\n",
    "print(\"=\"*100)\n",
    "print(\"There are {} users that does not meet the requirement\". format(uid_less10day.shape[0]))\n",
    "print(\"-\"*100)\n",
    "print(\"There are {} users that have less than {} records for exact 1 day\".format((uid_less10day.shape[0]- uid_less10day[uid_less10day[\"count\"] != 1].shape[0]), required_count))\n",
    "print(\"-\"*100)\n",
    "print(\"There are {} users that have less than {} records for more than 1 day\".format(uid_less10day[uid_less10day[\"count\"] != 1].shape[0], required_count))\n",
    "print(\"-\"*100)\n",
    "print(\"Under current condition, {} rows will be removed, {:.5%} of the entire dataset \".format(df_less10day[\"count\"].sum(), df_less10day[\"count\"].sum()/414171950))\n",
    "print(\"=\"*100)"
   ]
  },
  {
   "source": [
    "# Threshold justification"
   ],
   "cell_type": "markdown",
   "metadata": {}
  }
 ]
}